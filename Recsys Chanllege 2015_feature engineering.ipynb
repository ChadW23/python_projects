{
 "cells": [
  {
   "cell_type": "markdown",
   "metadata": {},
   "source": [
    "The Recsys Chanllege 2015: \\\n",
    "https://2015.recsyschallenge.com/challenge.html\\"
   ]
  },
  {
   "cell_type": "code",
   "execution_count": 1,
   "metadata": {},
   "outputs": [],
   "source": [
    "# loading data\n",
    "import pandas as pd\n",
    "\n",
    "click = pd.read_csv('click_sep.csv', low_memory=False)\n",
    "\n",
    "buy = pd.read_csv('buy_sep.csv',low_memory=False)"
   ]
  },
  {
   "cell_type": "code",
   "execution_count": 2,
   "metadata": {},
   "outputs": [
    {
     "data": {
      "text/html": [
       "<div>\n",
       "<style scoped>\n",
       "    .dataframe tbody tr th:only-of-type {\n",
       "        vertical-align: middle;\n",
       "    }\n",
       "\n",
       "    .dataframe tbody tr th {\n",
       "        vertical-align: top;\n",
       "    }\n",
       "\n",
       "    .dataframe thead th {\n",
       "        text-align: right;\n",
       "    }\n",
       "</style>\n",
       "<table border=\"1\" class=\"dataframe\">\n",
       "  <thead>\n",
       "    <tr style=\"text-align: right;\">\n",
       "      <th></th>\n",
       "      <th>SessionID</th>\n",
       "      <th>TimeStamp</th>\n",
       "      <th>ItemID</th>\n",
       "      <th>Category</th>\n",
       "    </tr>\n",
       "  </thead>\n",
       "  <tbody>\n",
       "    <tr>\n",
       "      <th>0</th>\n",
       "      <td>9293568</td>\n",
       "      <td>2014-09-01 18:07:00.855000+00:00</td>\n",
       "      <td>214853225</td>\n",
       "      <td>S</td>\n",
       "    </tr>\n",
       "    <tr>\n",
       "      <th>1</th>\n",
       "      <td>9293653</td>\n",
       "      <td>2014-09-01 10:38:47.087000+00:00</td>\n",
       "      <td>214834871</td>\n",
       "      <td>S</td>\n",
       "    </tr>\n",
       "    <tr>\n",
       "      <th>2</th>\n",
       "      <td>9293653</td>\n",
       "      <td>2014-09-01 10:39:49.115000+00:00</td>\n",
       "      <td>214849327</td>\n",
       "      <td>S</td>\n",
       "    </tr>\n",
       "    <tr>\n",
       "      <th>3</th>\n",
       "      <td>9293653</td>\n",
       "      <td>2014-09-01 10:40:31.736000+00:00</td>\n",
       "      <td>214828970</td>\n",
       "      <td>S</td>\n",
       "    </tr>\n",
       "    <tr>\n",
       "      <th>4</th>\n",
       "      <td>9293653</td>\n",
       "      <td>2014-09-01 10:41:01.640000+00:00</td>\n",
       "      <td>214849327</td>\n",
       "      <td>S</td>\n",
       "    </tr>\n",
       "  </tbody>\n",
       "</table>\n",
       "</div>"
      ],
      "text/plain": [
       "   SessionID                         TimeStamp     ItemID Category\n",
       "0    9293568  2014-09-01 18:07:00.855000+00:00  214853225        S\n",
       "1    9293653  2014-09-01 10:38:47.087000+00:00  214834871        S\n",
       "2    9293653  2014-09-01 10:39:49.115000+00:00  214849327        S\n",
       "3    9293653  2014-09-01 10:40:31.736000+00:00  214828970        S\n",
       "4    9293653  2014-09-01 10:41:01.640000+00:00  214849327        S"
      ]
     },
     "execution_count": 2,
     "metadata": {},
     "output_type": "execute_result"
    }
   ],
   "source": [
    "click.head()"
   ]
  },
  {
   "cell_type": "code",
   "execution_count": 3,
   "metadata": {},
   "outputs": [
    {
     "name": "stdout",
     "output_type": "stream",
     "text": [
      "unique click session\n",
      "99998\n"
     ]
    }
   ],
   "source": [
    "print('unique click session')\n",
    "print(len(click.SessionID.unique()))"
   ]
  },
  {
   "cell_type": "code",
   "execution_count": 4,
   "metadata": {},
   "outputs": [
    {
     "data": {
      "text/html": [
       "<div>\n",
       "<style scoped>\n",
       "    .dataframe tbody tr th:only-of-type {\n",
       "        vertical-align: middle;\n",
       "    }\n",
       "\n",
       "    .dataframe tbody tr th {\n",
       "        vertical-align: top;\n",
       "    }\n",
       "\n",
       "    .dataframe thead th {\n",
       "        text-align: right;\n",
       "    }\n",
       "</style>\n",
       "<table border=\"1\" class=\"dataframe\">\n",
       "  <thead>\n",
       "    <tr style=\"text-align: right;\">\n",
       "      <th></th>\n",
       "      <th>SessionID</th>\n",
       "      <th>TimeStamp</th>\n",
       "      <th>ItemID</th>\n",
       "      <th>Price</th>\n",
       "      <th>Quantity</th>\n",
       "    </tr>\n",
       "  </thead>\n",
       "  <tbody>\n",
       "    <tr>\n",
       "      <th>0</th>\n",
       "      <td>9641594</td>\n",
       "      <td>2014-09-01 09:09:25.575000+00:00</td>\n",
       "      <td>214853342</td>\n",
       "      <td>2093</td>\n",
       "      <td>2</td>\n",
       "    </tr>\n",
       "    <tr>\n",
       "      <th>1</th>\n",
       "      <td>9641594</td>\n",
       "      <td>2014-09-01 09:09:25.596000+00:00</td>\n",
       "      <td>214853340</td>\n",
       "      <td>837</td>\n",
       "      <td>2</td>\n",
       "    </tr>\n",
       "    <tr>\n",
       "      <th>2</th>\n",
       "      <td>9641594</td>\n",
       "      <td>2014-09-01 09:09:25.614000+00:00</td>\n",
       "      <td>214853420</td>\n",
       "      <td>1046</td>\n",
       "      <td>2</td>\n",
       "    </tr>\n",
       "    <tr>\n",
       "      <th>3</th>\n",
       "      <td>9431393</td>\n",
       "      <td>2014-09-01 13:38:48.351000+00:00</td>\n",
       "      <td>214846258</td>\n",
       "      <td>941</td>\n",
       "      <td>1</td>\n",
       "    </tr>\n",
       "    <tr>\n",
       "      <th>4</th>\n",
       "      <td>9431393</td>\n",
       "      <td>2014-09-01 13:38:48.414000+00:00</td>\n",
       "      <td>214853340</td>\n",
       "      <td>837</td>\n",
       "      <td>1</td>\n",
       "    </tr>\n",
       "  </tbody>\n",
       "</table>\n",
       "</div>"
      ],
      "text/plain": [
       "   SessionID                         TimeStamp     ItemID  Price  Quantity\n",
       "0    9641594  2014-09-01 09:09:25.575000+00:00  214853342   2093         2\n",
       "1    9641594  2014-09-01 09:09:25.596000+00:00  214853340    837         2\n",
       "2    9641594  2014-09-01 09:09:25.614000+00:00  214853420   1046         2\n",
       "3    9431393  2014-09-01 13:38:48.351000+00:00  214846258    941         1\n",
       "4    9431393  2014-09-01 13:38:48.414000+00:00  214853340    837         1"
      ]
     },
     "execution_count": 4,
     "metadata": {},
     "output_type": "execute_result"
    }
   ],
   "source": [
    "buy.head()"
   ]
  },
  {
   "cell_type": "code",
   "execution_count": 5,
   "metadata": {
    "scrolled": true
   },
   "outputs": [
    {
     "name": "stdout",
     "output_type": "stream",
     "text": [
      "unique buy session\n",
      "50000\n"
     ]
    }
   ],
   "source": [
    "print('unique buy session')\n",
    "print(len(buy.SessionID.unique()))"
   ]
  },
  {
   "cell_type": "code",
   "execution_count": 6,
   "metadata": {},
   "outputs": [],
   "source": [
    "# feature 1 \n",
    "# In each click session, how many items were clicked                                                \n",
    "\n",
    "feature1 = click.groupby('SessionID')['ItemID'].count().reset_index(name=\"item_cnt_in_ses\")          "
   ]
  },
  {
   "cell_type": "code",
   "execution_count": 7,
   "metadata": {},
   "outputs": [
    {
     "data": {
      "text/html": [
       "<div>\n",
       "<style scoped>\n",
       "    .dataframe tbody tr th:only-of-type {\n",
       "        vertical-align: middle;\n",
       "    }\n",
       "\n",
       "    .dataframe tbody tr th {\n",
       "        vertical-align: top;\n",
       "    }\n",
       "\n",
       "    .dataframe thead th {\n",
       "        text-align: right;\n",
       "    }\n",
       "</style>\n",
       "<table border=\"1\" class=\"dataframe\">\n",
       "  <thead>\n",
       "    <tr style=\"text-align: right;\">\n",
       "      <th></th>\n",
       "      <th>SessionID</th>\n",
       "      <th>item_cnt_in_ses</th>\n",
       "    </tr>\n",
       "  </thead>\n",
       "  <tbody>\n",
       "    <tr>\n",
       "      <th>0</th>\n",
       "      <td>9194351</td>\n",
       "      <td>5</td>\n",
       "    </tr>\n",
       "    <tr>\n",
       "      <th>1</th>\n",
       "      <td>9194429</td>\n",
       "      <td>2</td>\n",
       "    </tr>\n",
       "    <tr>\n",
       "      <th>2</th>\n",
       "      <td>9194513</td>\n",
       "      <td>3</td>\n",
       "    </tr>\n",
       "    <tr>\n",
       "      <th>3</th>\n",
       "      <td>9194692</td>\n",
       "      <td>1</td>\n",
       "    </tr>\n",
       "    <tr>\n",
       "      <th>4</th>\n",
       "      <td>9194824</td>\n",
       "      <td>1</td>\n",
       "    </tr>\n",
       "  </tbody>\n",
       "</table>\n",
       "</div>"
      ],
      "text/plain": [
       "   SessionID  item_cnt_in_ses\n",
       "0    9194351                5\n",
       "1    9194429                2\n",
       "2    9194513                3\n",
       "3    9194692                1\n",
       "4    9194824                1"
      ]
     },
     "execution_count": 7,
     "metadata": {},
     "output_type": "execute_result"
    }
   ],
   "source": [
    "feature1.head()"
   ]
  },
  {
   "cell_type": "code",
   "execution_count": 8,
   "metadata": {},
   "outputs": [
    {
     "data": {
      "text/plain": [
       "99998"
      ]
     },
     "execution_count": 8,
     "metadata": {},
     "output_type": "execute_result"
    }
   ],
   "source": [
    "len(feature1)"
   ]
  },
  {
   "cell_type": "code",
   "execution_count": 9,
   "metadata": {},
   "outputs": [
    {
     "data": {
      "text/html": [
       "<div>\n",
       "<style scoped>\n",
       "    .dataframe tbody tr th:only-of-type {\n",
       "        vertical-align: middle;\n",
       "    }\n",
       "\n",
       "    .dataframe tbody tr th {\n",
       "        vertical-align: top;\n",
       "    }\n",
       "\n",
       "    .dataframe thead th {\n",
       "        text-align: right;\n",
       "    }\n",
       "</style>\n",
       "<table border=\"1\" class=\"dataframe\">\n",
       "  <thead>\n",
       "    <tr style=\"text-align: right;\">\n",
       "      <th></th>\n",
       "      <th>SessionID</th>\n",
       "      <th>TimeStamp</th>\n",
       "      <th>ItemID</th>\n",
       "      <th>Category</th>\n",
       "      <th>click_weekday</th>\n",
       "    </tr>\n",
       "  </thead>\n",
       "  <tbody>\n",
       "    <tr>\n",
       "      <th>0</th>\n",
       "      <td>9293568</td>\n",
       "      <td>2014-09-01 18:07:00.855000+00:00</td>\n",
       "      <td>214853225</td>\n",
       "      <td>S</td>\n",
       "      <td>0</td>\n",
       "    </tr>\n",
       "    <tr>\n",
       "      <th>1</th>\n",
       "      <td>9293653</td>\n",
       "      <td>2014-09-01 10:38:47.087000+00:00</td>\n",
       "      <td>214834871</td>\n",
       "      <td>S</td>\n",
       "      <td>0</td>\n",
       "    </tr>\n",
       "    <tr>\n",
       "      <th>2</th>\n",
       "      <td>9293653</td>\n",
       "      <td>2014-09-01 10:39:49.115000+00:00</td>\n",
       "      <td>214849327</td>\n",
       "      <td>S</td>\n",
       "      <td>0</td>\n",
       "    </tr>\n",
       "    <tr>\n",
       "      <th>3</th>\n",
       "      <td>9293653</td>\n",
       "      <td>2014-09-01 10:40:31.736000+00:00</td>\n",
       "      <td>214828970</td>\n",
       "      <td>S</td>\n",
       "      <td>0</td>\n",
       "    </tr>\n",
       "    <tr>\n",
       "      <th>4</th>\n",
       "      <td>9293653</td>\n",
       "      <td>2014-09-01 10:41:01.640000+00:00</td>\n",
       "      <td>214849327</td>\n",
       "      <td>S</td>\n",
       "      <td>0</td>\n",
       "    </tr>\n",
       "  </tbody>\n",
       "</table>\n",
       "</div>"
      ],
      "text/plain": [
       "   SessionID                         TimeStamp     ItemID Category  \\\n",
       "0    9293568  2014-09-01 18:07:00.855000+00:00  214853225        S   \n",
       "1    9293653  2014-09-01 10:38:47.087000+00:00  214834871        S   \n",
       "2    9293653  2014-09-01 10:39:49.115000+00:00  214849327        S   \n",
       "3    9293653  2014-09-01 10:40:31.736000+00:00  214828970        S   \n",
       "4    9293653  2014-09-01 10:41:01.640000+00:00  214849327        S   \n",
       "\n",
       "   click_weekday  \n",
       "0              0  \n",
       "1              0  \n",
       "2              0  \n",
       "3              0  \n",
       "4              0  "
      ]
     },
     "execution_count": 9,
     "metadata": {},
     "output_type": "execute_result"
    }
   ],
   "source": [
    "# feature 2 \n",
    "# In which weekday the click activity happened.                                               \n",
    "\n",
    "import datetime\n",
    "click['click_weekday'] = pd.DatetimeIndex(click['TimeStamp']).dayofweek                         \n",
    "click.head(5)"
   ]
  },
  {
   "cell_type": "code",
   "execution_count": 10,
   "metadata": {},
   "outputs": [
    {
     "data": {
      "text/html": [
       "<div>\n",
       "<style scoped>\n",
       "    .dataframe tbody tr th:only-of-type {\n",
       "        vertical-align: middle;\n",
       "    }\n",
       "\n",
       "    .dataframe tbody tr th {\n",
       "        vertical-align: top;\n",
       "    }\n",
       "\n",
       "    .dataframe thead th {\n",
       "        text-align: right;\n",
       "    }\n",
       "</style>\n",
       "<table border=\"1\" class=\"dataframe\">\n",
       "  <thead>\n",
       "    <tr style=\"text-align: right;\">\n",
       "      <th></th>\n",
       "      <th>SessionID</th>\n",
       "      <th>click_weekday</th>\n",
       "    </tr>\n",
       "  </thead>\n",
       "  <tbody>\n",
       "    <tr>\n",
       "      <th>0</th>\n",
       "      <td>9293568</td>\n",
       "      <td>0</td>\n",
       "    </tr>\n",
       "    <tr>\n",
       "      <th>1</th>\n",
       "      <td>9293653</td>\n",
       "      <td>0</td>\n",
       "    </tr>\n",
       "    <tr>\n",
       "      <th>6</th>\n",
       "      <td>9293662</td>\n",
       "      <td>0</td>\n",
       "    </tr>\n",
       "    <tr>\n",
       "      <th>8</th>\n",
       "      <td>9293704</td>\n",
       "      <td>0</td>\n",
       "    </tr>\n",
       "    <tr>\n",
       "      <th>10</th>\n",
       "      <td>9293797</td>\n",
       "      <td>0</td>\n",
       "    </tr>\n",
       "  </tbody>\n",
       "</table>\n",
       "</div>"
      ],
      "text/plain": [
       "    SessionID  click_weekday\n",
       "0     9293568              0\n",
       "1     9293653              0\n",
       "6     9293662              0\n",
       "8     9293704              0\n",
       "10    9293797              0"
      ]
     },
     "execution_count": 10,
     "metadata": {},
     "output_type": "execute_result"
    }
   ],
   "source": [
    "# this step is to investigate duplicates \n",
    "feature2 = click[['SessionID','click_weekday']].drop_duplicates()\n",
    "feature2.head()"
   ]
  },
  {
   "cell_type": "code",
   "execution_count": 11,
   "metadata": {},
   "outputs": [
    {
     "data": {
      "text/plain": [
       "100076"
      ]
     },
     "execution_count": 11,
     "metadata": {},
     "output_type": "execute_result"
    }
   ],
   "source": [
    "len(feature2) "
   ]
  },
  {
   "cell_type": "code",
   "execution_count": 12,
   "metadata": {},
   "outputs": [
    {
     "name": "stdout",
     "output_type": "stream",
     "text": [
      "<bound method NDFrame.head of            SessionID                         TimeStamp     ItemID Category  \\\n",
      "0            9293568  2014-09-01 18:07:00.855000+00:00  214853225        S   \n",
      "7            9293568  2014-09-01 18:07:00.855000+00:00  214853225        S   \n",
      "22           9378348  2014-09-01 20:59:36.817000+00:00  214853225        S   \n",
      "29           9378348  2014-09-01 20:59:36.817000+00:00  214853225        S   \n",
      "44           9354957  2014-09-01 09:57:12.293000+00:00  214853225        S   \n",
      "...              ...                               ...        ...      ...   \n",
      "142184501   11292929  2014-09-27 11:38:11.837000+00:00  214554967        5   \n",
      "142184502   11289399  2014-09-24 17:01:18.671000+00:00  214551294        8   \n",
      "142184503   11299968  2014-09-27 18:41:26.992000+00:00  214769111       11   \n",
      "142184504   11299968  2014-09-27 18:42:18.887000+00:00  214769589       11   \n",
      "142184505   11298832  2014-09-27 17:28:44.687000+00:00  214835199        9   \n",
      "\n",
      "           click_weekday  Price  \n",
      "0                      0    627  \n",
      "7                      0    680  \n",
      "22                     0    627  \n",
      "29                     0    680  \n",
      "44                     0    627  \n",
      "...                  ...    ...  \n",
      "142184501              5    523  \n",
      "142184502              2    449  \n",
      "142184503              5    941  \n",
      "142184504              5    627  \n",
      "142184505              5    941  \n",
      "\n",
      "[661565 rows x 6 columns]>\n",
      "   SessionID  ave_item_price\n",
      "0    9194351     1534.777778\n",
      "1    9194429     1412.500000\n",
      "2    9194513     1470.500000\n",
      "3    9194692     3664.000000\n",
      "4    9194824     9424.000000\n"
     ]
    }
   ],
   "source": [
    "#feature3 \n",
    "# The average price of all items clicked in each click session                           \n",
    "\n",
    "# step 1 join certain columns from click and buy tables                                          \n",
    "df = click.merge(buy[['ItemID','Price']], how = 'inner', on = 'ItemID').drop_duplicates()\n",
    "print(df.head)\n",
    "# this line might take some time to run, be patient.\n",
    "\n",
    "# step 2 caculate average price from items clicked in each session\n",
    "feature3 = df.groupby('SessionID')['Price'].mean().reset_index(name=\"ave_item_price\")\n",
    "print(feature3.head())"
   ]
  },
  {
   "cell_type": "code",
   "execution_count": 13,
   "metadata": {},
   "outputs": [
    {
     "data": {
      "text/plain": [
       "96580"
      ]
     },
     "execution_count": 13,
     "metadata": {},
     "output_type": "execute_result"
    }
   ],
   "source": [
    "len(feature3)"
   ]
  },
  {
   "cell_type": "markdown",
   "metadata": {},
   "source": [
    "This feature will have missing values because the downsample caused some items are not in buy table anymore, therefore you won't find the price for the item."
   ]
  },
  {
   "cell_type": "code",
   "execution_count": 14,
   "metadata": {},
   "outputs": [
    {
     "data": {
      "text/html": [
       "<div>\n",
       "<style scoped>\n",
       "    .dataframe tbody tr th:only-of-type {\n",
       "        vertical-align: middle;\n",
       "    }\n",
       "\n",
       "    .dataframe tbody tr th {\n",
       "        vertical-align: top;\n",
       "    }\n",
       "\n",
       "    .dataframe thead th {\n",
       "        text-align: right;\n",
       "    }\n",
       "</style>\n",
       "<table border=\"1\" class=\"dataframe\">\n",
       "  <thead>\n",
       "    <tr style=\"text-align: right;\">\n",
       "      <th></th>\n",
       "      <th>SessionID</th>\n",
       "      <th>click_timeofday</th>\n",
       "    </tr>\n",
       "  </thead>\n",
       "  <tbody>\n",
       "    <tr>\n",
       "      <th>0</th>\n",
       "      <td>9293568</td>\n",
       "      <td>4</td>\n",
       "    </tr>\n",
       "    <tr>\n",
       "      <th>1</th>\n",
       "      <td>9293653</td>\n",
       "      <td>2</td>\n",
       "    </tr>\n",
       "    <tr>\n",
       "      <th>6</th>\n",
       "      <td>9293662</td>\n",
       "      <td>2</td>\n",
       "    </tr>\n",
       "    <tr>\n",
       "      <th>8</th>\n",
       "      <td>9293704</td>\n",
       "      <td>4</td>\n",
       "    </tr>\n",
       "    <tr>\n",
       "      <th>10</th>\n",
       "      <td>9293797</td>\n",
       "      <td>3</td>\n",
       "    </tr>\n",
       "  </tbody>\n",
       "</table>\n",
       "</div>"
      ],
      "text/plain": [
       "    SessionID  click_timeofday\n",
       "0     9293568                4\n",
       "1     9293653                2\n",
       "6     9293662                2\n",
       "8     9293704                4\n",
       "10    9293797                3"
      ]
     },
     "execution_count": 14,
     "metadata": {},
     "output_type": "execute_result"
    }
   ],
   "source": [
    "# feature 4\n",
    "# At what time period of a day the first click activity in a session happned (when a click session started).\n",
    "# A feature from click dataset only.\n",
    "\n",
    "\n",
    "# step 1: extract the hour from the timestamp\n",
    "click['click_hourofday'] = pd.DatetimeIndex(click['TimeStamp']).hour \n",
    "\n",
    "# step 2: generate a new column to set the time of day into four categories, 0-6: 1, 7-11: 2, 12-17: 3, 18-24: 4.\n",
    "click['click_timeofday'] = click['click_hourofday'].map (lambda x:1 if (x<6)\n",
    "                                                                else 2 if (x<12)\n",
    "                                                                else 3 if (x<18)\n",
    "                                                                else 4 )\n",
    "feature4 = click[['SessionID','click_timeofday']].drop_duplicates(subset='SessionID')\n",
    "feature4.head()"
   ]
  },
  {
   "cell_type": "code",
   "execution_count": 15,
   "metadata": {},
   "outputs": [
    {
     "data": {
      "text/plain": [
       "99998"
      ]
     },
     "execution_count": 15,
     "metadata": {},
     "output_type": "execute_result"
    }
   ],
   "source": [
    "len(feature4)"
   ]
  },
  {
   "cell_type": "code",
   "execution_count": 16,
   "metadata": {},
   "outputs": [],
   "source": [
    "# feature 5\n",
    "# whether a click activity happened close to the pay dates, which are usualy first day, 15th day or last day of a month.\n",
    "# A feature from click dataset only.\n",
    "\n",
    "# step 1: extract the day of month from the timestamp date.\n",
    "click['click_dayofmonth'] = pd.DatetimeIndex(click['TimeStamp']).day                          \n",
    "\n",
    "# step 2: set it into two categories, if the day is close to pay day (1th, 2nd, 3rd, 4th, 15th, 16th, 17th, 30th) set it to 1,\n",
    "# otherwise, set it to 0.\n",
    "click['click_payrollday'] = click['click_dayofmonth'].map (lambda x:1 if (x<5) or (x==30) or (x<18 & x>14) else 0 )"
   ]
  },
  {
   "cell_type": "code",
   "execution_count": 17,
   "metadata": {},
   "outputs": [
    {
     "data": {
      "text/html": [
       "<div>\n",
       "<style scoped>\n",
       "    .dataframe tbody tr th:only-of-type {\n",
       "        vertical-align: middle;\n",
       "    }\n",
       "\n",
       "    .dataframe tbody tr th {\n",
       "        vertical-align: top;\n",
       "    }\n",
       "\n",
       "    .dataframe thead th {\n",
       "        text-align: right;\n",
       "    }\n",
       "</style>\n",
       "<table border=\"1\" class=\"dataframe\">\n",
       "  <thead>\n",
       "    <tr style=\"text-align: right;\">\n",
       "      <th></th>\n",
       "      <th>SessionID</th>\n",
       "      <th>click_payrollday</th>\n",
       "    </tr>\n",
       "  </thead>\n",
       "  <tbody>\n",
       "    <tr>\n",
       "      <th>0</th>\n",
       "      <td>9293568</td>\n",
       "      <td>1</td>\n",
       "    </tr>\n",
       "    <tr>\n",
       "      <th>1</th>\n",
       "      <td>9293653</td>\n",
       "      <td>1</td>\n",
       "    </tr>\n",
       "    <tr>\n",
       "      <th>6</th>\n",
       "      <td>9293662</td>\n",
       "      <td>1</td>\n",
       "    </tr>\n",
       "    <tr>\n",
       "      <th>8</th>\n",
       "      <td>9293704</td>\n",
       "      <td>1</td>\n",
       "    </tr>\n",
       "    <tr>\n",
       "      <th>10</th>\n",
       "      <td>9293797</td>\n",
       "      <td>1</td>\n",
       "    </tr>\n",
       "  </tbody>\n",
       "</table>\n",
       "</div>"
      ],
      "text/plain": [
       "    SessionID  click_payrollday\n",
       "0     9293568                 1\n",
       "1     9293653                 1\n",
       "6     9293662                 1\n",
       "8     9293704                 1\n",
       "10    9293797                 1"
      ]
     },
     "execution_count": 17,
     "metadata": {},
     "output_type": "execute_result"
    }
   ],
   "source": [
    "feature5 = click[['SessionID','click_payrollday']].drop_duplicates()\n",
    "feature5.head()"
   ]
  },
  {
   "cell_type": "code",
   "execution_count": 18,
   "metadata": {},
   "outputs": [
    {
     "data": {
      "text/plain": [
       "100003"
      ]
     },
     "execution_count": 18,
     "metadata": {},
     "output_type": "execute_result"
    }
   ],
   "source": [
    "len(feature5)"
   ]
  },
  {
   "cell_type": "code",
   "execution_count": 19,
   "metadata": {},
   "outputs": [
    {
     "data": {
      "text/html": [
       "<div>\n",
       "<style scoped>\n",
       "    .dataframe tbody tr th:only-of-type {\n",
       "        vertical-align: middle;\n",
       "    }\n",
       "\n",
       "    .dataframe tbody tr th {\n",
       "        vertical-align: top;\n",
       "    }\n",
       "\n",
       "    .dataframe thead th {\n",
       "        text-align: right;\n",
       "    }\n",
       "</style>\n",
       "<table border=\"1\" class=\"dataframe\">\n",
       "  <thead>\n",
       "    <tr style=\"text-align: right;\">\n",
       "      <th></th>\n",
       "      <th>SessionID</th>\n",
       "      <th>dwell_time</th>\n",
       "    </tr>\n",
       "  </thead>\n",
       "  <tbody>\n",
       "    <tr>\n",
       "      <th>0</th>\n",
       "      <td>9194351</td>\n",
       "      <td>320.0</td>\n",
       "    </tr>\n",
       "    <tr>\n",
       "      <th>1</th>\n",
       "      <td>9194429</td>\n",
       "      <td>60.0</td>\n",
       "    </tr>\n",
       "    <tr>\n",
       "      <th>2</th>\n",
       "      <td>9194513</td>\n",
       "      <td>883.0</td>\n",
       "    </tr>\n",
       "    <tr>\n",
       "      <th>3</th>\n",
       "      <td>9194692</td>\n",
       "      <td>0.0</td>\n",
       "    </tr>\n",
       "    <tr>\n",
       "      <th>4</th>\n",
       "      <td>9194824</td>\n",
       "      <td>0.0</td>\n",
       "    </tr>\n",
       "  </tbody>\n",
       "</table>\n",
       "</div>"
      ],
      "text/plain": [
       "   SessionID  dwell_time\n",
       "0    9194351       320.0\n",
       "1    9194429        60.0\n",
       "2    9194513       883.0\n",
       "3    9194692         0.0\n",
       "4    9194824         0.0"
      ]
     },
     "execution_count": 19,
     "metadata": {},
     "output_type": "execute_result"
    }
   ],
   "source": [
    "# feature 6\n",
    "# the dwell time of each session in seconds.\n",
    "\n",
    "# step 1: create a new dataframe having the time of the first click and the time of the last click of each session.\n",
    "df6 = click.groupby('SessionID')['TimeStamp'].agg([min,max]).reset_index()\n",
    "# this line may take some to run.\n",
    "\n",
    "# step2: convert to timestamp\n",
    "df6['begin']=pd.to_datetime(df6['min'])\n",
    "df6['end']=pd.to_datetime(df6['max'])\n",
    "\n",
    "# step 3: subtract to get the dwell time in seconds.\n",
    "df6['dwell_time'] = (df6['end']-df6['begin']).astype('timedelta64[s]')\n",
    "feature6 = df6[['SessionID','dwell_time']]\n",
    "feature6.head()\n"
   ]
  },
  {
   "cell_type": "code",
   "execution_count": 20,
   "metadata": {},
   "outputs": [
    {
     "data": {
      "text/plain": [
       "99998"
      ]
     },
     "execution_count": 20,
     "metadata": {},
     "output_type": "execute_result"
    }
   ],
   "source": [
    "len(feature6)"
   ]
  },
  {
   "cell_type": "code",
   "execution_count": 21,
   "metadata": {},
   "outputs": [
    {
     "data": {
      "text/html": [
       "<div>\n",
       "<style scoped>\n",
       "    .dataframe tbody tr th:only-of-type {\n",
       "        vertical-align: middle;\n",
       "    }\n",
       "\n",
       "    .dataframe tbody tr th {\n",
       "        vertical-align: top;\n",
       "    }\n",
       "\n",
       "    .dataframe thead th {\n",
       "        text-align: right;\n",
       "    }\n",
       "</style>\n",
       "<table border=\"1\" class=\"dataframe\">\n",
       "  <thead>\n",
       "    <tr style=\"text-align: right;\">\n",
       "      <th></th>\n",
       "      <th>SessionID</th>\n",
       "      <th>cnt_pop_item</th>\n",
       "    </tr>\n",
       "  </thead>\n",
       "  <tbody>\n",
       "    <tr>\n",
       "      <th>0</th>\n",
       "      <td>9194351</td>\n",
       "      <td>5</td>\n",
       "    </tr>\n",
       "    <tr>\n",
       "      <th>1</th>\n",
       "      <td>9194429</td>\n",
       "      <td>2</td>\n",
       "    </tr>\n",
       "    <tr>\n",
       "      <th>2</th>\n",
       "      <td>9194513</td>\n",
       "      <td>3</td>\n",
       "    </tr>\n",
       "    <tr>\n",
       "      <th>3</th>\n",
       "      <td>9194692</td>\n",
       "      <td>1</td>\n",
       "    </tr>\n",
       "    <tr>\n",
       "      <th>4</th>\n",
       "      <td>9194824</td>\n",
       "      <td>0</td>\n",
       "    </tr>\n",
       "  </tbody>\n",
       "</table>\n",
       "</div>"
      ],
      "text/plain": [
       "   SessionID  cnt_pop_item\n",
       "0    9194351             5\n",
       "1    9194429             2\n",
       "2    9194513             3\n",
       "3    9194692             1\n",
       "4    9194824             0"
      ]
     },
     "execution_count": 21,
     "metadata": {},
     "output_type": "execute_result"
    }
   ],
   "source": [
    "# feature 7\n",
    "# the number of popuplar items in each session.\n",
    "# the popular items are the items sold more times than the average times of all sold items.\n",
    "\n",
    "# step 1: if the sold time of an item is greater then average sold time, it is popular and set to 1, otherwise set to 0.\n",
    "df7 = buy.groupby(\"ItemID\")['Quantity'].sum().reset_index()\n",
    "df7['pop_item'] = df7['Quantity'].map (lambda x:0 if (x<df7['Quantity'].mean()) else 1 )\n",
    "\n",
    "# step 2: for each click session, get the number of popular items clicked.\n",
    "df7_1 = click.merge(df7[['ItemID','pop_item']], how = 'inner', on = 'ItemID')\n",
    "feature7 = df7_1.groupby('SessionID')['pop_item'].sum().reset_index(name='cnt_pop_item')\n",
    "feature7.head()"
   ]
  },
  {
   "cell_type": "code",
   "execution_count": 22,
   "metadata": {},
   "outputs": [
    {
     "data": {
      "text/plain": [
       "96580"
      ]
     },
     "execution_count": 22,
     "metadata": {},
     "output_type": "execute_result"
    }
   ],
   "source": [
    "len(feature7)"
   ]
  },
  {
   "cell_type": "code",
   "execution_count": 23,
   "metadata": {},
   "outputs": [
    {
     "data": {
      "text/html": [
       "<div>\n",
       "<style scoped>\n",
       "    .dataframe tbody tr th:only-of-type {\n",
       "        vertical-align: middle;\n",
       "    }\n",
       "\n",
       "    .dataframe tbody tr th {\n",
       "        vertical-align: top;\n",
       "    }\n",
       "\n",
       "    .dataframe thead th {\n",
       "        text-align: right;\n",
       "    }\n",
       "</style>\n",
       "<table border=\"1\" class=\"dataframe\">\n",
       "  <thead>\n",
       "    <tr style=\"text-align: right;\">\n",
       "      <th></th>\n",
       "      <th>Category</th>\n",
       "      <th>ave_cat_price</th>\n",
       "    </tr>\n",
       "  </thead>\n",
       "  <tbody>\n",
       "    <tr>\n",
       "      <th>7</th>\n",
       "      <td>2089437536</td>\n",
       "      <td>575.000000</td>\n",
       "    </tr>\n",
       "    <tr>\n",
       "      <th>14</th>\n",
       "      <td>8</td>\n",
       "      <td>682.918038</td>\n",
       "    </tr>\n",
       "    <tr>\n",
       "      <th>9</th>\n",
       "      <td>3</td>\n",
       "      <td>979.639705</td>\n",
       "    </tr>\n",
       "    <tr>\n",
       "      <th>3</th>\n",
       "      <td>11</td>\n",
       "      <td>1017.346000</td>\n",
       "    </tr>\n",
       "    <tr>\n",
       "      <th>6</th>\n",
       "      <td>2089300095</td>\n",
       "      <td>1151.000000</td>\n",
       "    </tr>\n",
       "    <tr>\n",
       "      <th>2</th>\n",
       "      <td>10</td>\n",
       "      <td>1898.272189</td>\n",
       "    </tr>\n",
       "    <tr>\n",
       "      <th>8</th>\n",
       "      <td>2089538467</td>\n",
       "      <td>1988.333333</td>\n",
       "    </tr>\n",
       "    <tr>\n",
       "      <th>15</th>\n",
       "      <td>9</td>\n",
       "      <td>2001.266529</td>\n",
       "    </tr>\n",
       "    <tr>\n",
       "      <th>0</th>\n",
       "      <td>0</td>\n",
       "      <td>2493.574872</td>\n",
       "    </tr>\n",
       "    <tr>\n",
       "      <th>16</th>\n",
       "      <td>S</td>\n",
       "      <td>2556.854473</td>\n",
       "    </tr>\n",
       "    <tr>\n",
       "      <th>1</th>\n",
       "      <td>1</td>\n",
       "      <td>2617.934743</td>\n",
       "    </tr>\n",
       "    <tr>\n",
       "      <th>5</th>\n",
       "      <td>2</td>\n",
       "      <td>3029.183116</td>\n",
       "    </tr>\n",
       "    <tr>\n",
       "      <th>12</th>\n",
       "      <td>6</td>\n",
       "      <td>3496.498041</td>\n",
       "    </tr>\n",
       "    <tr>\n",
       "      <th>4</th>\n",
       "      <td>12</td>\n",
       "      <td>3576.356250</td>\n",
       "    </tr>\n",
       "    <tr>\n",
       "      <th>10</th>\n",
       "      <td>4</td>\n",
       "      <td>3588.426872</td>\n",
       "    </tr>\n",
       "    <tr>\n",
       "      <th>13</th>\n",
       "      <td>7</td>\n",
       "      <td>5257.243697</td>\n",
       "    </tr>\n",
       "    <tr>\n",
       "      <th>11</th>\n",
       "      <td>5</td>\n",
       "      <td>7062.098294</td>\n",
       "    </tr>\n",
       "  </tbody>\n",
       "</table>\n",
       "</div>"
      ],
      "text/plain": [
       "      Category  ave_cat_price\n",
       "7   2089437536     575.000000\n",
       "14           8     682.918038\n",
       "9            3     979.639705\n",
       "3           11    1017.346000\n",
       "6   2089300095    1151.000000\n",
       "2           10    1898.272189\n",
       "8   2089538467    1988.333333\n",
       "15           9    2001.266529\n",
       "0            0    2493.574872\n",
       "16           S    2556.854473\n",
       "1            1    2617.934743\n",
       "5            2    3029.183116\n",
       "12           6    3496.498041\n",
       "4           12    3576.356250\n",
       "10           4    3588.426872\n",
       "13           7    5257.243697\n",
       "11           5    7062.098294"
      ]
     },
     "execution_count": 23,
     "metadata": {},
     "output_type": "execute_result"
    }
   ],
   "source": [
    "# feature 8\n",
    "# the total score of cheap categories each session in click.\n",
    "# the higher the score, the more items belong to expensive categories.\n",
    "\n",
    "# step 1: get the average price of all items in each category\n",
    "df8 = buy.merge(click[['ItemID','Category']], how = 'inner', on = 'ItemID').drop_duplicates()\n",
    "# this line may take some time to run.\n",
    "\n",
    "df8_1 = df8.groupby('Category')['Price'].mean().reset_index(name=\"ave_cat_price\")\n",
    "df8_1.sort_values(by='ave_cat_price')"
   ]
  },
  {
   "cell_type": "code",
   "execution_count": 24,
   "metadata": {},
   "outputs": [
    {
     "data": {
      "text/html": [
       "<div>\n",
       "<style scoped>\n",
       "    .dataframe tbody tr th:only-of-type {\n",
       "        vertical-align: middle;\n",
       "    }\n",
       "\n",
       "    .dataframe tbody tr th {\n",
       "        vertical-align: top;\n",
       "    }\n",
       "\n",
       "    .dataframe thead th {\n",
       "        text-align: right;\n",
       "    }\n",
       "</style>\n",
       "<table border=\"1\" class=\"dataframe\">\n",
       "  <thead>\n",
       "    <tr style=\"text-align: right;\">\n",
       "      <th></th>\n",
       "      <th>SessionID</th>\n",
       "      <th>ave_cheap_cat_score</th>\n",
       "    </tr>\n",
       "  </thead>\n",
       "  <tbody>\n",
       "    <tr>\n",
       "      <th>99985</th>\n",
       "      <td>11561996</td>\n",
       "      <td>3.0</td>\n",
       "    </tr>\n",
       "    <tr>\n",
       "      <th>99986</th>\n",
       "      <td>11561999</td>\n",
       "      <td>3.0</td>\n",
       "    </tr>\n",
       "    <tr>\n",
       "      <th>99987</th>\n",
       "      <td>11562071</td>\n",
       "      <td>3.0</td>\n",
       "    </tr>\n",
       "    <tr>\n",
       "      <th>99988</th>\n",
       "      <td>11562104</td>\n",
       "      <td>4.0</td>\n",
       "    </tr>\n",
       "    <tr>\n",
       "      <th>99989</th>\n",
       "      <td>11562107</td>\n",
       "      <td>3.0</td>\n",
       "    </tr>\n",
       "  </tbody>\n",
       "</table>\n",
       "</div>"
      ],
      "text/plain": [
       "       SessionID  ave_cheap_cat_score\n",
       "99985   11561996                  3.0\n",
       "99986   11561999                  3.0\n",
       "99987   11562071                  3.0\n",
       "99988   11562104                  4.0\n",
       "99989   11562107                  3.0"
      ]
     },
     "execution_count": 24,
     "metadata": {},
     "output_type": "execute_result"
    }
   ],
   "source": [
    "# step 2: if the average price is below 1000, set the cheap_category score as 1, between 1000 and 2000: 2, \n",
    "# between 2000 and 3000: 3, greater than 3000: 4.\n",
    "df8_1['cheap_category_score'] = df8_1['ave_cat_price'].map (lambda x:1 if (x < 1000) \n",
    "                                                            else 2 if (x<2000)\n",
    "                                                            else 3 if (x<3000)\n",
    "                                                            else 4)\n",
    "# step 3: for each session of click, calculate the average cheap_category score for all items clicked.\n",
    "df8_2 = click.merge(df8_1[['Category','cheap_category_score']], how = 'inner', on = 'Category')\n",
    "feature8 = df8_2.groupby('SessionID')['cheap_category_score'].mean().reset_index(name='ave_cheap_cat_score')\n",
    "feature8.tail()"
   ]
  },
  {
   "cell_type": "code",
   "execution_count": 25,
   "metadata": {},
   "outputs": [
    {
     "data": {
      "text/plain": [
       "99990"
      ]
     },
     "execution_count": 25,
     "metadata": {},
     "output_type": "execute_result"
    }
   ],
   "source": [
    "len(feature8)"
   ]
  },
  {
   "cell_type": "code",
   "execution_count": 26,
   "metadata": {},
   "outputs": [
    {
     "data": {
      "text/plain": [
       "S    326603\n",
       "Name: Category, dtype: int64"
      ]
     },
     "execution_count": 26,
     "metadata": {},
     "output_type": "execute_result"
    }
   ],
   "source": [
    "# feature 9\n",
    "# the number of items in the most clicked categories for each session.\n",
    "\n",
    "# step 1: find out the most clicked category. It is 'S'.\n",
    "click['Category'].value_counts().head(1)\n"
   ]
  },
  {
   "cell_type": "code",
   "execution_count": 27,
   "metadata": {},
   "outputs": [
    {
     "data": {
      "text/html": [
       "<div>\n",
       "<style scoped>\n",
       "    .dataframe tbody tr th:only-of-type {\n",
       "        vertical-align: middle;\n",
       "    }\n",
       "\n",
       "    .dataframe tbody tr th {\n",
       "        vertical-align: top;\n",
       "    }\n",
       "\n",
       "    .dataframe thead th {\n",
       "        text-align: right;\n",
       "    }\n",
       "</style>\n",
       "<table border=\"1\" class=\"dataframe\">\n",
       "  <thead>\n",
       "    <tr style=\"text-align: right;\">\n",
       "      <th></th>\n",
       "      <th>SessionID</th>\n",
       "      <th>cnt_most_click_cat</th>\n",
       "    </tr>\n",
       "  </thead>\n",
       "  <tbody>\n",
       "    <tr>\n",
       "      <th>0</th>\n",
       "      <td>9194351</td>\n",
       "      <td>5</td>\n",
       "    </tr>\n",
       "    <tr>\n",
       "      <th>1</th>\n",
       "      <td>9194429</td>\n",
       "      <td>2</td>\n",
       "    </tr>\n",
       "    <tr>\n",
       "      <th>2</th>\n",
       "      <td>9194513</td>\n",
       "      <td>3</td>\n",
       "    </tr>\n",
       "    <tr>\n",
       "      <th>3</th>\n",
       "      <td>9194692</td>\n",
       "      <td>1</td>\n",
       "    </tr>\n",
       "    <tr>\n",
       "      <th>4</th>\n",
       "      <td>9194824</td>\n",
       "      <td>0</td>\n",
       "    </tr>\n",
       "  </tbody>\n",
       "</table>\n",
       "</div>"
      ],
      "text/plain": [
       "   SessionID  cnt_most_click_cat\n",
       "0    9194351                   5\n",
       "1    9194429                   2\n",
       "2    9194513                   3\n",
       "3    9194692                   1\n",
       "4    9194824                   0"
      ]
     },
     "execution_count": 27,
     "metadata": {},
     "output_type": "execute_result"
    }
   ],
   "source": [
    "# step 2: for each click activity, if the category is \"S\", set to 1, otherwize set to 0.\n",
    "click['is_most_clicked_cat'] = click['Category'].apply(lambda x: 1 if x == 'S' else 0)\n",
    "\n",
    "# step 3: get the number of click activities which are in category 'S' in each session.\n",
    "feature9 = click.groupby('SessionID')['is_most_clicked_cat'].sum().reset_index(name=\"cnt_most_click_cat\")\n",
    "feature9.head()"
   ]
  },
  {
   "cell_type": "code",
   "execution_count": 28,
   "metadata": {},
   "outputs": [
    {
     "data": {
      "text/plain": [
       "99998"
      ]
     },
     "execution_count": 28,
     "metadata": {},
     "output_type": "execute_result"
    }
   ],
   "source": [
    "len(feature9)"
   ]
  },
  {
   "cell_type": "code",
   "execution_count": 29,
   "metadata": {},
   "outputs": [
    {
     "data": {
      "text/plain": [
       "ItemID       2.148596e+08\n",
       "SessionID    1.690000e+02\n",
       "Name: 0.97, dtype: float64"
      ]
     },
     "execution_count": 29,
     "metadata": {},
     "output_type": "execute_result"
    }
   ],
   "source": [
    "# feature 10\n",
    "# the number of mostly clicked items in each click session\n",
    "\n",
    "# step 1: get the number of clicks on itemID and the 0.97 quantitle.\n",
    "df10=click.groupby('ItemID')['SessionID'].count().reset_index()\n",
    "df10.quantile(0.97)"
   ]
  },
  {
   "cell_type": "code",
   "execution_count": 30,
   "metadata": {},
   "outputs": [
    {
     "data": {
      "text/html": [
       "<div>\n",
       "<style scoped>\n",
       "    .dataframe tbody tr th:only-of-type {\n",
       "        vertical-align: middle;\n",
       "    }\n",
       "\n",
       "    .dataframe tbody tr th {\n",
       "        vertical-align: top;\n",
       "    }\n",
       "\n",
       "    .dataframe thead th {\n",
       "        text-align: right;\n",
       "    }\n",
       "</style>\n",
       "<table border=\"1\" class=\"dataframe\">\n",
       "  <thead>\n",
       "    <tr style=\"text-align: right;\">\n",
       "      <th></th>\n",
       "      <th>SessionID</th>\n",
       "      <th>cnt_most_click_item</th>\n",
       "    </tr>\n",
       "  </thead>\n",
       "  <tbody>\n",
       "    <tr>\n",
       "      <th>0</th>\n",
       "      <td>9194351</td>\n",
       "      <td>5</td>\n",
       "    </tr>\n",
       "    <tr>\n",
       "      <th>1</th>\n",
       "      <td>9194429</td>\n",
       "      <td>2</td>\n",
       "    </tr>\n",
       "    <tr>\n",
       "      <th>2</th>\n",
       "      <td>9194513</td>\n",
       "      <td>3</td>\n",
       "    </tr>\n",
       "    <tr>\n",
       "      <th>3</th>\n",
       "      <td>9194692</td>\n",
       "      <td>1</td>\n",
       "    </tr>\n",
       "    <tr>\n",
       "      <th>4</th>\n",
       "      <td>9194824</td>\n",
       "      <td>1</td>\n",
       "    </tr>\n",
       "  </tbody>\n",
       "</table>\n",
       "</div>"
      ],
      "text/plain": [
       "   SessionID  cnt_most_click_item\n",
       "0    9194351                    5\n",
       "1    9194429                    2\n",
       "2    9194513                    3\n",
       "3    9194692                    1\n",
       "4    9194824                    1"
      ]
     },
     "execution_count": 30,
     "metadata": {},
     "output_type": "execute_result"
    }
   ],
   "source": [
    "# step 2: the top 3 percent mostly clicked items are marked as most_click_item and set to 1, others are set to 0. \n",
    "df10['most_click_item'] = df10['SessionID'].map (lambda x:1 if (x > 169) else 0 )\n",
    "\n",
    "# step 3: count the number of most_click_items clicked in each click session.\n",
    "df10_1 = click.merge(df10[['ItemID','most_click_item']], how = 'left', on = 'ItemID').drop_duplicates()\n",
    "feature10 = df10_1.groupby('SessionID')['most_click_item'].sum().reset_index(name='cnt_most_click_item')\n",
    "feature10.head()"
   ]
  },
  {
   "cell_type": "code",
   "execution_count": 31,
   "metadata": {},
   "outputs": [
    {
     "data": {
      "text/plain": [
       "99998"
      ]
     },
     "execution_count": 31,
     "metadata": {},
     "output_type": "execute_result"
    }
   ],
   "source": [
    "len(feature10)"
   ]
  },
  {
   "cell_type": "code",
   "execution_count": 32,
   "metadata": {},
   "outputs": [
    {
     "data": {
      "text/html": [
       "<div>\n",
       "<style scoped>\n",
       "    .dataframe tbody tr th:only-of-type {\n",
       "        vertical-align: middle;\n",
       "    }\n",
       "\n",
       "    .dataframe tbody tr th {\n",
       "        vertical-align: top;\n",
       "    }\n",
       "\n",
       "    .dataframe thead th {\n",
       "        text-align: right;\n",
       "    }\n",
       "</style>\n",
       "<table border=\"1\" class=\"dataframe\">\n",
       "  <thead>\n",
       "    <tr style=\"text-align: right;\">\n",
       "      <th></th>\n",
       "      <th>SessionID</th>\n",
       "      <th>click_rate</th>\n",
       "    </tr>\n",
       "  </thead>\n",
       "  <tbody>\n",
       "    <tr>\n",
       "      <th>0</th>\n",
       "      <td>9194351</td>\n",
       "      <td>64.000000</td>\n",
       "    </tr>\n",
       "    <tr>\n",
       "      <th>1</th>\n",
       "      <td>9194429</td>\n",
       "      <td>30.000000</td>\n",
       "    </tr>\n",
       "    <tr>\n",
       "      <th>2</th>\n",
       "      <td>9194513</td>\n",
       "      <td>294.333333</td>\n",
       "    </tr>\n",
       "    <tr>\n",
       "      <th>3</th>\n",
       "      <td>9194692</td>\n",
       "      <td>0.000000</td>\n",
       "    </tr>\n",
       "    <tr>\n",
       "      <th>4</th>\n",
       "      <td>9194824</td>\n",
       "      <td>0.000000</td>\n",
       "    </tr>\n",
       "  </tbody>\n",
       "</table>\n",
       "</div>"
      ],
      "text/plain": [
       "   SessionID  click_rate\n",
       "0    9194351   64.000000\n",
       "1    9194429   30.000000\n",
       "2    9194513  294.333333\n",
       "3    9194692    0.000000\n",
       "4    9194824    0.000000"
      ]
     },
     "execution_count": 32,
     "metadata": {},
     "output_type": "execute_result"
    }
   ],
   "source": [
    "# feature 11\n",
    "# the average time in seconds for an item in each click session\n",
    "\n",
    "# step 1: concatenate feature1 which has click numbers and feature6 which has dwelling time.\n",
    "df11 = pd.concat([feature1, feature6[['dwell_time']]], axis=1, sort=False)\n",
    "\n",
    "# step 2: divide the dwelling time by number of clicks per session to get the click_rate. \n",
    "# higher the rate, less average time spend on each click activity.\n",
    "# if only one item is clicked in a session, the rate is 0.\n",
    "df11['click_rate']=df11['dwell_time']/df11['item_cnt_in_ses']\n",
    "feature11 = df11[['SessionID','click_rate']]\n",
    "feature11.head()"
   ]
  },
  {
   "cell_type": "code",
   "execution_count": 33,
   "metadata": {},
   "outputs": [
    {
     "data": {
      "text/plain": [
       "99998"
      ]
     },
     "execution_count": 33,
     "metadata": {},
     "output_type": "execute_result"
    }
   ],
   "source": [
    "len(feature11)"
   ]
  },
  {
   "cell_type": "code",
   "execution_count": 34,
   "metadata": {},
   "outputs": [
    {
     "data": {
      "text/plain": [
       "count      8215.000000\n",
       "mean       5164.282532\n",
       "std       11277.619266\n",
       "min          26.000000\n",
       "25%         837.000000\n",
       "50%        1884.000000\n",
       "75%        4188.000000\n",
       "max      208288.000000\n",
       "Name: Price, dtype: float64"
      ]
     },
     "execution_count": 34,
     "metadata": {},
     "output_type": "execute_result"
    }
   ],
   "source": [
    "# feature 12\n",
    "# the number of cheap items clicked in each click session\n",
    "\n",
    "# step 1: get the distribution of prices of all items sold.\n",
    "df12 = buy[['ItemID','Price']].drop_duplicates()\n",
    "df12['Price'].describe()"
   ]
  },
  {
   "cell_type": "code",
   "execution_count": 35,
   "metadata": {},
   "outputs": [
    {
     "data": {
      "text/html": [
       "<div>\n",
       "<style scoped>\n",
       "    .dataframe tbody tr th:only-of-type {\n",
       "        vertical-align: middle;\n",
       "    }\n",
       "\n",
       "    .dataframe tbody tr th {\n",
       "        vertical-align: top;\n",
       "    }\n",
       "\n",
       "    .dataframe thead th {\n",
       "        text-align: right;\n",
       "    }\n",
       "</style>\n",
       "<table border=\"1\" class=\"dataframe\">\n",
       "  <thead>\n",
       "    <tr style=\"text-align: right;\">\n",
       "      <th></th>\n",
       "      <th>SessionID</th>\n",
       "      <th>cnt_cheap_item</th>\n",
       "    </tr>\n",
       "  </thead>\n",
       "  <tbody>\n",
       "    <tr>\n",
       "      <th>0</th>\n",
       "      <td>9194351</td>\n",
       "      <td>1</td>\n",
       "    </tr>\n",
       "    <tr>\n",
       "      <th>1</th>\n",
       "      <td>9194429</td>\n",
       "      <td>0</td>\n",
       "    </tr>\n",
       "    <tr>\n",
       "      <th>2</th>\n",
       "      <td>9194513</td>\n",
       "      <td>2</td>\n",
       "    </tr>\n",
       "    <tr>\n",
       "      <th>3</th>\n",
       "      <td>9194692</td>\n",
       "      <td>0</td>\n",
       "    </tr>\n",
       "    <tr>\n",
       "      <th>4</th>\n",
       "      <td>9194824</td>\n",
       "      <td>0</td>\n",
       "    </tr>\n",
       "  </tbody>\n",
       "</table>\n",
       "</div>"
      ],
      "text/plain": [
       "   SessionID  cnt_cheap_item\n",
       "0    9194351               1\n",
       "1    9194429               0\n",
       "2    9194513               2\n",
       "3    9194692               0\n",
       "4    9194824               0"
      ]
     },
     "execution_count": 35,
     "metadata": {},
     "output_type": "execute_result"
    }
   ],
   "source": [
    "# step 2: for each item if it is cheaper than the price of 75% of all items, it is marked as a cheap item and set to 1, otherwise set to 0.\n",
    "df12['cheap_item'] = df12['Price'].map (lambda x:1 if (x < 837) else 0 )\n",
    "df12_1 = click.merge(df12[['ItemID','cheap_item']], how = 'inner', on = 'ItemID')\n",
    "\n",
    "# step 3: count the number of cheap items clicked in each click session.\n",
    "feature12 = df12_1.groupby('SessionID')['cheap_item'].sum().reset_index(name='cnt_cheap_item')\n",
    "feature12.head()"
   ]
  },
  {
   "cell_type": "code",
   "execution_count": 36,
   "metadata": {},
   "outputs": [
    {
     "data": {
      "text/plain": [
       "96580"
      ]
     },
     "execution_count": 36,
     "metadata": {},
     "output_type": "execute_result"
    }
   ],
   "source": [
    "len(feature12)"
   ]
  },
  {
   "cell_type": "code",
   "execution_count": 37,
   "metadata": {},
   "outputs": [
    {
     "data": {
      "text/plain": [
       "Category\n",
       "S             131612\n",
       "0              51119\n",
       "3              50979\n",
       "1              42162\n",
       "8              13624\n",
       "2              11127\n",
       "5               8578\n",
       "7               3370\n",
       "6               2118\n",
       "10              1773\n",
       "4               1705\n",
       "9               1033\n",
       "11               502\n",
       "12               203\n",
       "2089300095         5\n",
       "2089538467         5\n",
       "2089437536         4\n",
       "Name: total_sold_qty, dtype: int64"
      ]
     },
     "execution_count": 37,
     "metadata": {},
     "output_type": "execute_result"
    }
   ],
   "source": [
    "# feature 13\n",
    "# the number of items in most sold category clicked in each click session\n",
    "\n",
    "# step 1: find out which is the most popular category (the most-sold category).\n",
    "# then count the number of items that are belong to the most populat caterogy clicked in each click session. \n",
    "df13 = buy.groupby('ItemID')['Quantity'].sum().reset_index(name='total_sold_qty')\n",
    "df13_1 = df13.merge(click[['ItemID','Category']],how='inner', on='ItemID').drop_duplicates()\n",
    "df13_1.groupby('Category')['total_sold_qty'].sum().sort_values(ascending=False)"
   ]
  },
  {
   "cell_type": "code",
   "execution_count": 38,
   "metadata": {},
   "outputs": [],
   "source": [
    "click['is_most_sold_cat'] = click['Category'].apply(lambda x: 1 if x == 'S' else 0)\n",
    "feature13 = click.groupby('SessionID')['is_most_sold_cat'].sum().reset_index(name=\"most_sold_cat_num\")\n",
    "# because both the most clicked category (as in feature9) and most sold category are 'S', adding this feature won't help. So don't add this feature to the ABT."
   ]
  },
  {
   "cell_type": "code",
   "execution_count": 39,
   "metadata": {},
   "outputs": [],
   "source": [
    "# feature 14\n",
    "# whether the first click item is a popular item (sold more than half of the items in buy)\n",
    "\n",
    "# step 1: get the first click items.\n",
    "df14 = click.sort_values(['SessionID','TimeStamp']).drop_duplicates(subset='SessionID')"
   ]
  },
  {
   "cell_type": "code",
   "execution_count": 40,
   "metadata": {},
   "outputs": [],
   "source": [
    "# step 2: get the list of popular items (items sold more than half of the items in buy) (use some codes from feature7)\n",
    "df7 = buy.groupby(\"ItemID\")['Quantity'].sum().reset_index()\n",
    "df7['pop_item'] = df7['Quantity'].map (lambda x:0 if (x<df7['Quantity'].mean()) else 1 )\n",
    "pop_sold_item = df7.loc[df7['pop_item']==1].ItemID.unique()"
   ]
  },
  {
   "cell_type": "code",
   "execution_count": 41,
   "metadata": {},
   "outputs": [],
   "source": [
    "# step 3: to chech whether the first click item is a popular item.\n",
    "df14['first_click_pop_item'] = df14['ItemID'].apply(lambda x: 1 if x in pop_sold_item else 0)"
   ]
  },
  {
   "cell_type": "code",
   "execution_count": 42,
   "metadata": {},
   "outputs": [
    {
     "data": {
      "text/html": [
       "<div>\n",
       "<style scoped>\n",
       "    .dataframe tbody tr th:only-of-type {\n",
       "        vertical-align: middle;\n",
       "    }\n",
       "\n",
       "    .dataframe tbody tr th {\n",
       "        vertical-align: top;\n",
       "    }\n",
       "\n",
       "    .dataframe thead th {\n",
       "        text-align: right;\n",
       "    }\n",
       "</style>\n",
       "<table border=\"1\" class=\"dataframe\">\n",
       "  <thead>\n",
       "    <tr style=\"text-align: right;\">\n",
       "      <th></th>\n",
       "      <th>SessionID</th>\n",
       "      <th>first_click_pop_item</th>\n",
       "    </tr>\n",
       "  </thead>\n",
       "  <tbody>\n",
       "    <tr>\n",
       "      <th>435417</th>\n",
       "      <td>11561877</td>\n",
       "      <td>1</td>\n",
       "    </tr>\n",
       "    <tr>\n",
       "      <th>435411</th>\n",
       "      <td>11561938</td>\n",
       "      <td>1</td>\n",
       "    </tr>\n",
       "    <tr>\n",
       "      <th>435415</th>\n",
       "      <td>11561974</td>\n",
       "      <td>0</td>\n",
       "    </tr>\n",
       "    <tr>\n",
       "      <th>435262</th>\n",
       "      <td>11561989</td>\n",
       "      <td>1</td>\n",
       "    </tr>\n",
       "    <tr>\n",
       "      <th>435264</th>\n",
       "      <td>11561994</td>\n",
       "      <td>1</td>\n",
       "    </tr>\n",
       "    <tr>\n",
       "      <th>435267</th>\n",
       "      <td>11561996</td>\n",
       "      <td>1</td>\n",
       "    </tr>\n",
       "    <tr>\n",
       "      <th>435266</th>\n",
       "      <td>11561999</td>\n",
       "      <td>1</td>\n",
       "    </tr>\n",
       "    <tr>\n",
       "      <th>435274</th>\n",
       "      <td>11562071</td>\n",
       "      <td>1</td>\n",
       "    </tr>\n",
       "    <tr>\n",
       "      <th>435269</th>\n",
       "      <td>11562104</td>\n",
       "      <td>1</td>\n",
       "    </tr>\n",
       "    <tr>\n",
       "      <th>435270</th>\n",
       "      <td>11562107</td>\n",
       "      <td>0</td>\n",
       "    </tr>\n",
       "  </tbody>\n",
       "</table>\n",
       "</div>"
      ],
      "text/plain": [
       "        SessionID  first_click_pop_item\n",
       "435417   11561877                     1\n",
       "435411   11561938                     1\n",
       "435415   11561974                     0\n",
       "435262   11561989                     1\n",
       "435264   11561994                     1\n",
       "435267   11561996                     1\n",
       "435266   11561999                     1\n",
       "435274   11562071                     1\n",
       "435269   11562104                     1\n",
       "435270   11562107                     0"
      ]
     },
     "execution_count": 42,
     "metadata": {},
     "output_type": "execute_result"
    }
   ],
   "source": [
    "feature14 = df14[['SessionID','first_click_pop_item']]\n",
    "feature14.tail(10)"
   ]
  },
  {
   "cell_type": "code",
   "execution_count": 43,
   "metadata": {},
   "outputs": [
    {
     "data": {
      "text/plain": [
       "99998"
      ]
     },
     "execution_count": 43,
     "metadata": {},
     "output_type": "execute_result"
    }
   ],
   "source": [
    "len(feature14)"
   ]
  },
  {
   "cell_type": "code",
   "execution_count": 44,
   "metadata": {},
   "outputs": [],
   "source": [
    "# feature 15\n",
    "# whether the last click item is a popular item (sold more than half of the items in buy)\n",
    "\n",
    "# step 1: get the first click items.\n",
    "df15 = click.sort_values(['SessionID','TimeStamp'],ascending=[True, False]).drop_duplicates(subset='SessionID')"
   ]
  },
  {
   "cell_type": "code",
   "execution_count": 45,
   "metadata": {},
   "outputs": [],
   "source": [
    "# step 2: to chech whether the first click item is a popular item (similar as for feature 14).\n",
    "df15['last_click_pop_item'] = df15['ItemID'].apply(lambda x: 1 if x in pop_sold_item else 0)"
   ]
  },
  {
   "cell_type": "code",
   "execution_count": 46,
   "metadata": {},
   "outputs": [
    {
     "data": {
      "text/html": [
       "<div>\n",
       "<style scoped>\n",
       "    .dataframe tbody tr th:only-of-type {\n",
       "        vertical-align: middle;\n",
       "    }\n",
       "\n",
       "    .dataframe tbody tr th {\n",
       "        vertical-align: top;\n",
       "    }\n",
       "\n",
       "    .dataframe thead th {\n",
       "        text-align: right;\n",
       "    }\n",
       "</style>\n",
       "<table border=\"1\" class=\"dataframe\">\n",
       "  <thead>\n",
       "    <tr style=\"text-align: right;\">\n",
       "      <th></th>\n",
       "      <th>SessionID</th>\n",
       "      <th>last_click_pop_item</th>\n",
       "    </tr>\n",
       "  </thead>\n",
       "  <tbody>\n",
       "    <tr>\n",
       "      <th>435418</th>\n",
       "      <td>11561877</td>\n",
       "      <td>1</td>\n",
       "    </tr>\n",
       "    <tr>\n",
       "      <th>435414</th>\n",
       "      <td>11561938</td>\n",
       "      <td>1</td>\n",
       "    </tr>\n",
       "    <tr>\n",
       "      <th>435416</th>\n",
       "      <td>11561974</td>\n",
       "      <td>1</td>\n",
       "    </tr>\n",
       "    <tr>\n",
       "      <th>435263</th>\n",
       "      <td>11561989</td>\n",
       "      <td>1</td>\n",
       "    </tr>\n",
       "    <tr>\n",
       "      <th>435265</th>\n",
       "      <td>11561994</td>\n",
       "      <td>0</td>\n",
       "    </tr>\n",
       "    <tr>\n",
       "      <th>435268</th>\n",
       "      <td>11561996</td>\n",
       "      <td>1</td>\n",
       "    </tr>\n",
       "    <tr>\n",
       "      <th>435266</th>\n",
       "      <td>11561999</td>\n",
       "      <td>1</td>\n",
       "    </tr>\n",
       "    <tr>\n",
       "      <th>435278</th>\n",
       "      <td>11562071</td>\n",
       "      <td>1</td>\n",
       "    </tr>\n",
       "    <tr>\n",
       "      <th>435269</th>\n",
       "      <td>11562104</td>\n",
       "      <td>1</td>\n",
       "    </tr>\n",
       "    <tr>\n",
       "      <th>435273</th>\n",
       "      <td>11562107</td>\n",
       "      <td>1</td>\n",
       "    </tr>\n",
       "  </tbody>\n",
       "</table>\n",
       "</div>"
      ],
      "text/plain": [
       "        SessionID  last_click_pop_item\n",
       "435418   11561877                    1\n",
       "435414   11561938                    1\n",
       "435416   11561974                    1\n",
       "435263   11561989                    1\n",
       "435265   11561994                    0\n",
       "435268   11561996                    1\n",
       "435266   11561999                    1\n",
       "435278   11562071                    1\n",
       "435269   11562104                    1\n",
       "435273   11562107                    1"
      ]
     },
     "execution_count": 46,
     "metadata": {},
     "output_type": "execute_result"
    }
   ],
   "source": [
    "feature15 = df15[['SessionID','last_click_pop_item']]\n",
    "feature15.tail(10)"
   ]
  },
  {
   "cell_type": "code",
   "execution_count": 47,
   "metadata": {},
   "outputs": [
    {
     "data": {
      "text/plain": [
       "99998"
      ]
     },
     "execution_count": 47,
     "metadata": {},
     "output_type": "execute_result"
    }
   ],
   "source": [
    "len(feature15)"
   ]
  },
  {
   "cell_type": "markdown",
   "metadata": {},
   "source": [
    "### Final Step \n",
    "Create ABT on session level\n",
    "\n",
    "If there is a record in buy session, then it means the buy activitiy happened and that buy session should be marked as 1.\n",
    "In click sessions, there are many session ids not in the buy table, that means the click activities happened but buy activity did not happen, then these click sessions should be marked as 0."
   ]
  },
  {
   "cell_type": "code",
   "execution_count": 48,
   "metadata": {},
   "outputs": [
    {
     "data": {
      "text/html": [
       "<div>\n",
       "<style scoped>\n",
       "    .dataframe tbody tr th:only-of-type {\n",
       "        vertical-align: middle;\n",
       "    }\n",
       "\n",
       "    .dataframe tbody tr th {\n",
       "        vertical-align: top;\n",
       "    }\n",
       "\n",
       "    .dataframe thead th {\n",
       "        text-align: right;\n",
       "    }\n",
       "</style>\n",
       "<table border=\"1\" class=\"dataframe\">\n",
       "  <thead>\n",
       "    <tr style=\"text-align: right;\">\n",
       "      <th></th>\n",
       "      <th>SessionID</th>\n",
       "      <th>buy_or_not</th>\n",
       "    </tr>\n",
       "  </thead>\n",
       "  <tbody>\n",
       "    <tr>\n",
       "      <th>1448127</th>\n",
       "      <td>11299607</td>\n",
       "      <td>0.0</td>\n",
       "    </tr>\n",
       "    <tr>\n",
       "      <th>1448129</th>\n",
       "      <td>11299701</td>\n",
       "      <td>0.0</td>\n",
       "    </tr>\n",
       "    <tr>\n",
       "      <th>1448130</th>\n",
       "      <td>11299683</td>\n",
       "      <td>1.0</td>\n",
       "    </tr>\n",
       "    <tr>\n",
       "      <th>1448134</th>\n",
       "      <td>11299738</td>\n",
       "      <td>1.0</td>\n",
       "    </tr>\n",
       "    <tr>\n",
       "      <th>1448148</th>\n",
       "      <td>11299742</td>\n",
       "      <td>0.0</td>\n",
       "    </tr>\n",
       "    <tr>\n",
       "      <th>1448149</th>\n",
       "      <td>11299723</td>\n",
       "      <td>0.0</td>\n",
       "    </tr>\n",
       "    <tr>\n",
       "      <th>1448155</th>\n",
       "      <td>11299767</td>\n",
       "      <td>0.0</td>\n",
       "    </tr>\n",
       "    <tr>\n",
       "      <th>1448159</th>\n",
       "      <td>11299803</td>\n",
       "      <td>0.0</td>\n",
       "    </tr>\n",
       "    <tr>\n",
       "      <th>1448160</th>\n",
       "      <td>11299794</td>\n",
       "      <td>1.0</td>\n",
       "    </tr>\n",
       "    <tr>\n",
       "      <th>1448180</th>\n",
       "      <td>11299793</td>\n",
       "      <td>1.0</td>\n",
       "    </tr>\n",
       "  </tbody>\n",
       "</table>\n",
       "</div>"
      ],
      "text/plain": [
       "         SessionID  buy_or_not\n",
       "1448127   11299607         0.0\n",
       "1448129   11299701         0.0\n",
       "1448130   11299683         1.0\n",
       "1448134   11299738         1.0\n",
       "1448148   11299742         0.0\n",
       "1448149   11299723         0.0\n",
       "1448155   11299767         0.0\n",
       "1448159   11299803         0.0\n",
       "1448160   11299794         1.0\n",
       "1448180   11299793         1.0"
      ]
     },
     "execution_count": 48,
     "metadata": {},
     "output_type": "execute_result"
    }
   ],
   "source": [
    "buy['buy_or_not'] = 1\n",
    "click_ABT = click[['SessionID']]\n",
    "ABT = click_ABT.merge(buy[['SessionID','buy_or_not']], how = 'left', on = 'SessionID').drop_duplicates().fillna(0)\n",
    "ABT.tail(10)"
   ]
  },
  {
   "cell_type": "code",
   "execution_count": 49,
   "metadata": {},
   "outputs": [
    {
     "data": {
      "text/plain": [
       "99998"
      ]
     },
     "execution_count": 49,
     "metadata": {},
     "output_type": "execute_result"
    }
   ],
   "source": [
    "len(ABT)"
   ]
  },
  {
   "cell_type": "markdown",
   "metadata": {},
   "source": [
    "### Join all features together with predictive target column in the final ABT ---- 10 Points"
   ]
  },
  {
   "cell_type": "code",
   "execution_count": 50,
   "metadata": {},
   "outputs": [],
   "source": [
    "ABT2=pd.merge(feature1, feature2, how = 'inner', on = 'SessionID')\n",
    "ABT3=pd.merge(ABT2, feature3, how = 'left', on = 'SessionID')\n",
    "ABT4=pd.merge(ABT3, feature4, how = 'inner', on = 'SessionID')\n",
    "ABT5=pd.merge(ABT4, feature5, how = 'inner', on = 'SessionID')\n",
    "ABT6=pd.merge(ABT5, feature6, how = 'inner', on = 'SessionID')\n",
    "ABT7=pd.merge(ABT6, feature7, how = 'left', on = 'SessionID')\n",
    "ABT8=pd.merge(ABT7, feature8, how = 'left', on = 'SessionID')\n",
    "ABT9=pd.merge(ABT8, feature9, how = 'inner', on = 'SessionID')\n",
    "ABT10=pd.merge(ABT9, feature10, how = 'inner', on = 'SessionID')\n",
    "ABT11=pd.merge(ABT10, feature11, how = 'inner', on = 'SessionID')\n",
    "ABT12=pd.merge(ABT11, feature12, how = 'left', on = 'SessionID')\n",
    "ABT14=pd.merge(ABT12, feature14, how = 'inner', on = 'SessionID')\n",
    "ABT15=pd.merge(ABT14, feature15, how = 'inner', on = 'SessionID')\n",
    "ABT_final=pd.merge(ABT15, ABT, how = 'inner', on = 'SessionID')"
   ]
  },
  {
   "cell_type": "code",
   "execution_count": 51,
   "metadata": {},
   "outputs": [
    {
     "data": {
      "text/html": [
       "<div>\n",
       "<style scoped>\n",
       "    .dataframe tbody tr th:only-of-type {\n",
       "        vertical-align: middle;\n",
       "    }\n",
       "\n",
       "    .dataframe tbody tr th {\n",
       "        vertical-align: top;\n",
       "    }\n",
       "\n",
       "    .dataframe thead th {\n",
       "        text-align: right;\n",
       "    }\n",
       "</style>\n",
       "<table border=\"1\" class=\"dataframe\">\n",
       "  <thead>\n",
       "    <tr style=\"text-align: right;\">\n",
       "      <th></th>\n",
       "      <th>SessionID</th>\n",
       "      <th>item_cnt_in_ses</th>\n",
       "      <th>click_weekday</th>\n",
       "      <th>ave_item_price</th>\n",
       "      <th>click_timeofday</th>\n",
       "      <th>click_payrollday</th>\n",
       "      <th>dwell_time</th>\n",
       "      <th>cnt_pop_item</th>\n",
       "      <th>ave_cheap_cat_score</th>\n",
       "      <th>cnt_most_click_cat</th>\n",
       "      <th>cnt_most_click_item</th>\n",
       "      <th>click_rate</th>\n",
       "      <th>cnt_cheap_item</th>\n",
       "      <th>first_click_pop_item</th>\n",
       "      <th>last_click_pop_item</th>\n",
       "      <th>buy_or_not</th>\n",
       "    </tr>\n",
       "  </thead>\n",
       "  <tbody>\n",
       "    <tr>\n",
       "      <th>0</th>\n",
       "      <td>9194351</td>\n",
       "      <td>5</td>\n",
       "      <td>0</td>\n",
       "      <td>1534.777778</td>\n",
       "      <td>2</td>\n",
       "      <td>1</td>\n",
       "      <td>320.0</td>\n",
       "      <td>5.0</td>\n",
       "      <td>3.000000</td>\n",
       "      <td>5</td>\n",
       "      <td>5</td>\n",
       "      <td>64.000000</td>\n",
       "      <td>1.0</td>\n",
       "      <td>1</td>\n",
       "      <td>1</td>\n",
       "      <td>0.0</td>\n",
       "    </tr>\n",
       "    <tr>\n",
       "      <th>1</th>\n",
       "      <td>9194429</td>\n",
       "      <td>2</td>\n",
       "      <td>0</td>\n",
       "      <td>1412.500000</td>\n",
       "      <td>2</td>\n",
       "      <td>1</td>\n",
       "      <td>60.0</td>\n",
       "      <td>2.0</td>\n",
       "      <td>3.000000</td>\n",
       "      <td>2</td>\n",
       "      <td>2</td>\n",
       "      <td>30.000000</td>\n",
       "      <td>0.0</td>\n",
       "      <td>1</td>\n",
       "      <td>1</td>\n",
       "      <td>0.0</td>\n",
       "    </tr>\n",
       "    <tr>\n",
       "      <th>2</th>\n",
       "      <td>9194513</td>\n",
       "      <td>3</td>\n",
       "      <td>0</td>\n",
       "      <td>1470.500000</td>\n",
       "      <td>2</td>\n",
       "      <td>1</td>\n",
       "      <td>883.0</td>\n",
       "      <td>3.0</td>\n",
       "      <td>3.000000</td>\n",
       "      <td>3</td>\n",
       "      <td>3</td>\n",
       "      <td>294.333333</td>\n",
       "      <td>2.0</td>\n",
       "      <td>1</td>\n",
       "      <td>1</td>\n",
       "      <td>0.0</td>\n",
       "    </tr>\n",
       "    <tr>\n",
       "      <th>3</th>\n",
       "      <td>9194692</td>\n",
       "      <td>1</td>\n",
       "      <td>0</td>\n",
       "      <td>3664.000000</td>\n",
       "      <td>4</td>\n",
       "      <td>1</td>\n",
       "      <td>0.0</td>\n",
       "      <td>1.0</td>\n",
       "      <td>3.000000</td>\n",
       "      <td>1</td>\n",
       "      <td>1</td>\n",
       "      <td>0.000000</td>\n",
       "      <td>0.0</td>\n",
       "      <td>1</td>\n",
       "      <td>1</td>\n",
       "      <td>0.0</td>\n",
       "    </tr>\n",
       "    <tr>\n",
       "      <th>4</th>\n",
       "      <td>9194824</td>\n",
       "      <td>1</td>\n",
       "      <td>0</td>\n",
       "      <td>9424.000000</td>\n",
       "      <td>1</td>\n",
       "      <td>1</td>\n",
       "      <td>0.0</td>\n",
       "      <td>0.0</td>\n",
       "      <td>3.000000</td>\n",
       "      <td>0</td>\n",
       "      <td>1</td>\n",
       "      <td>0.000000</td>\n",
       "      <td>0.0</td>\n",
       "      <td>0</td>\n",
       "      <td>0</td>\n",
       "      <td>0.0</td>\n",
       "    </tr>\n",
       "    <tr>\n",
       "      <th>5</th>\n",
       "      <td>9195173</td>\n",
       "      <td>4</td>\n",
       "      <td>0</td>\n",
       "      <td>2219.200000</td>\n",
       "      <td>3</td>\n",
       "      <td>1</td>\n",
       "      <td>95.0</td>\n",
       "      <td>4.0</td>\n",
       "      <td>3.000000</td>\n",
       "      <td>1</td>\n",
       "      <td>1</td>\n",
       "      <td>23.750000</td>\n",
       "      <td>0.0</td>\n",
       "      <td>1</td>\n",
       "      <td>1</td>\n",
       "      <td>0.0</td>\n",
       "    </tr>\n",
       "    <tr>\n",
       "      <th>6</th>\n",
       "      <td>9195209</td>\n",
       "      <td>3</td>\n",
       "      <td>0</td>\n",
       "      <td>16650.000000</td>\n",
       "      <td>3</td>\n",
       "      <td>1</td>\n",
       "      <td>2099.0</td>\n",
       "      <td>0.0</td>\n",
       "      <td>3.000000</td>\n",
       "      <td>0</td>\n",
       "      <td>0</td>\n",
       "      <td>699.666667</td>\n",
       "      <td>0.0</td>\n",
       "      <td>0</td>\n",
       "      <td>0</td>\n",
       "      <td>1.0</td>\n",
       "    </tr>\n",
       "    <tr>\n",
       "      <th>7</th>\n",
       "      <td>9195293</td>\n",
       "      <td>6</td>\n",
       "      <td>0</td>\n",
       "      <td>719.222222</td>\n",
       "      <td>1</td>\n",
       "      <td>1</td>\n",
       "      <td>1141.0</td>\n",
       "      <td>6.0</td>\n",
       "      <td>3.000000</td>\n",
       "      <td>3</td>\n",
       "      <td>6</td>\n",
       "      <td>190.166667</td>\n",
       "      <td>5.0</td>\n",
       "      <td>1</td>\n",
       "      <td>1</td>\n",
       "      <td>1.0</td>\n",
       "    </tr>\n",
       "    <tr>\n",
       "      <th>8</th>\n",
       "      <td>9195417</td>\n",
       "      <td>8</td>\n",
       "      <td>0</td>\n",
       "      <td>941.400000</td>\n",
       "      <td>3</td>\n",
       "      <td>1</td>\n",
       "      <td>2090.0</td>\n",
       "      <td>8.0</td>\n",
       "      <td>4.000000</td>\n",
       "      <td>0</td>\n",
       "      <td>8</td>\n",
       "      <td>261.250000</td>\n",
       "      <td>2.0</td>\n",
       "      <td>1</td>\n",
       "      <td>1</td>\n",
       "      <td>0.0</td>\n",
       "    </tr>\n",
       "    <tr>\n",
       "      <th>9</th>\n",
       "      <td>9195426</td>\n",
       "      <td>9</td>\n",
       "      <td>0</td>\n",
       "      <td>8388.111111</td>\n",
       "      <td>3</td>\n",
       "      <td>1</td>\n",
       "      <td>1318.0</td>\n",
       "      <td>3.0</td>\n",
       "      <td>3.111111</td>\n",
       "      <td>4</td>\n",
       "      <td>0</td>\n",
       "      <td>146.444444</td>\n",
       "      <td>0.0</td>\n",
       "      <td>0</td>\n",
       "      <td>0</td>\n",
       "      <td>0.0</td>\n",
       "    </tr>\n",
       "  </tbody>\n",
       "</table>\n",
       "</div>"
      ],
      "text/plain": [
       "   SessionID  item_cnt_in_ses  click_weekday  ave_item_price  click_timeofday  \\\n",
       "0    9194351                5              0     1534.777778                2   \n",
       "1    9194429                2              0     1412.500000                2   \n",
       "2    9194513                3              0     1470.500000                2   \n",
       "3    9194692                1              0     3664.000000                4   \n",
       "4    9194824                1              0     9424.000000                1   \n",
       "5    9195173                4              0     2219.200000                3   \n",
       "6    9195209                3              0    16650.000000                3   \n",
       "7    9195293                6              0      719.222222                1   \n",
       "8    9195417                8              0      941.400000                3   \n",
       "9    9195426                9              0     8388.111111                3   \n",
       "\n",
       "   click_payrollday  dwell_time  cnt_pop_item  ave_cheap_cat_score  \\\n",
       "0                 1       320.0           5.0             3.000000   \n",
       "1                 1        60.0           2.0             3.000000   \n",
       "2                 1       883.0           3.0             3.000000   \n",
       "3                 1         0.0           1.0             3.000000   \n",
       "4                 1         0.0           0.0             3.000000   \n",
       "5                 1        95.0           4.0             3.000000   \n",
       "6                 1      2099.0           0.0             3.000000   \n",
       "7                 1      1141.0           6.0             3.000000   \n",
       "8                 1      2090.0           8.0             4.000000   \n",
       "9                 1      1318.0           3.0             3.111111   \n",
       "\n",
       "   cnt_most_click_cat  cnt_most_click_item  click_rate  cnt_cheap_item  \\\n",
       "0                   5                    5   64.000000             1.0   \n",
       "1                   2                    2   30.000000             0.0   \n",
       "2                   3                    3  294.333333             2.0   \n",
       "3                   1                    1    0.000000             0.0   \n",
       "4                   0                    1    0.000000             0.0   \n",
       "5                   1                    1   23.750000             0.0   \n",
       "6                   0                    0  699.666667             0.0   \n",
       "7                   3                    6  190.166667             5.0   \n",
       "8                   0                    8  261.250000             2.0   \n",
       "9                   4                    0  146.444444             0.0   \n",
       "\n",
       "   first_click_pop_item  last_click_pop_item  buy_or_not  \n",
       "0                     1                    1         0.0  \n",
       "1                     1                    1         0.0  \n",
       "2                     1                    1         0.0  \n",
       "3                     1                    1         0.0  \n",
       "4                     0                    0         0.0  \n",
       "5                     1                    1         0.0  \n",
       "6                     0                    0         1.0  \n",
       "7                     1                    1         1.0  \n",
       "8                     1                    1         0.0  \n",
       "9                     0                    0         0.0  "
      ]
     },
     "execution_count": 51,
     "metadata": {},
     "output_type": "execute_result"
    }
   ],
   "source": [
    "ABT_final.head(10)"
   ]
  },
  {
   "cell_type": "code",
   "execution_count": 52,
   "metadata": {},
   "outputs": [],
   "source": [
    "ABT_final.to_csv('Recsys_2015.csv')"
   ]
  }
 ],
 "metadata": {
  "kernelspec": {
   "display_name": "Python 3",
   "language": "python",
   "name": "python3"
  },
  "language_info": {
   "codemirror_mode": {
    "name": "ipython",
    "version": 3
   },
   "file_extension": ".py",
   "mimetype": "text/x-python",
   "name": "python",
   "nbconvert_exporter": "python",
   "pygments_lexer": "ipython3",
   "version": "3.8.5"
  }
 },
 "nbformat": 4,
 "nbformat_minor": 4
}
