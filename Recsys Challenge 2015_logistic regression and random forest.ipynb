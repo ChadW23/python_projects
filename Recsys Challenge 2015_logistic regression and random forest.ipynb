{
 "cells": [
  {
   "cell_type": "code",
   "execution_count": 16,
   "metadata": {},
   "outputs": [],
   "source": [
    "import numpy as np\n",
    "import pandas as pd\n",
    "from sklearn.preprocessing import MinMaxScaler\n",
    "from sklearn.preprocessing import StandardScaler\n",
    "from sklearn.impute import SimpleImputer\n",
    "from sklearn.model_selection import train_test_split\n",
    "from sklearn.linear_model import LogisticRegression\n",
    "from sklearn.metrics import roc_curve, auc\n",
    "from sklearn import metrics\n",
    "from sklearn.metrics import confusion_matrix, classification_report\n",
    "from sklearn.ensemble import RandomForestClassifier\n",
    "\n",
    "\n",
    "from matplotlib import pyplot as plt\n",
    "%matplotlib inline"
   ]
  },
  {
   "cell_type": "code",
   "execution_count": 3,
   "metadata": {},
   "outputs": [
    {
     "data": {
      "text/html": [
       "<div>\n",
       "<style scoped>\n",
       "    .dataframe tbody tr th:only-of-type {\n",
       "        vertical-align: middle;\n",
       "    }\n",
       "\n",
       "    .dataframe tbody tr th {\n",
       "        vertical-align: top;\n",
       "    }\n",
       "\n",
       "    .dataframe thead th {\n",
       "        text-align: right;\n",
       "    }\n",
       "</style>\n",
       "<table border=\"1\" class=\"dataframe\">\n",
       "  <thead>\n",
       "    <tr style=\"text-align: right;\">\n",
       "      <th></th>\n",
       "      <th>Unnamed: 0</th>\n",
       "      <th>SessionID</th>\n",
       "      <th>item_cnt_in_ses</th>\n",
       "      <th>click_weekday</th>\n",
       "      <th>ave_item_price</th>\n",
       "      <th>click_timeofday</th>\n",
       "      <th>click_payrollday</th>\n",
       "      <th>dwell_time</th>\n",
       "      <th>cnt_pop_item</th>\n",
       "      <th>ave_cheap_cat_score</th>\n",
       "      <th>cnt_most_click_cat</th>\n",
       "      <th>cnt_most_click_item</th>\n",
       "      <th>click_rate</th>\n",
       "      <th>cnt_cheap_item</th>\n",
       "      <th>first_click_pop_item</th>\n",
       "      <th>last_click_pop_item</th>\n",
       "      <th>buy_or_not</th>\n",
       "    </tr>\n",
       "  </thead>\n",
       "  <tbody>\n",
       "    <tr>\n",
       "      <th>0</th>\n",
       "      <td>0</td>\n",
       "      <td>9194351</td>\n",
       "      <td>5</td>\n",
       "      <td>0</td>\n",
       "      <td>1534.777778</td>\n",
       "      <td>2</td>\n",
       "      <td>1</td>\n",
       "      <td>320.0</td>\n",
       "      <td>5.0</td>\n",
       "      <td>3.0</td>\n",
       "      <td>5</td>\n",
       "      <td>5</td>\n",
       "      <td>64.000000</td>\n",
       "      <td>1.0</td>\n",
       "      <td>1</td>\n",
       "      <td>1</td>\n",
       "      <td>0.0</td>\n",
       "    </tr>\n",
       "    <tr>\n",
       "      <th>1</th>\n",
       "      <td>1</td>\n",
       "      <td>9194429</td>\n",
       "      <td>2</td>\n",
       "      <td>0</td>\n",
       "      <td>1412.500000</td>\n",
       "      <td>2</td>\n",
       "      <td>1</td>\n",
       "      <td>60.0</td>\n",
       "      <td>2.0</td>\n",
       "      <td>3.0</td>\n",
       "      <td>2</td>\n",
       "      <td>2</td>\n",
       "      <td>30.000000</td>\n",
       "      <td>0.0</td>\n",
       "      <td>1</td>\n",
       "      <td>1</td>\n",
       "      <td>0.0</td>\n",
       "    </tr>\n",
       "    <tr>\n",
       "      <th>2</th>\n",
       "      <td>2</td>\n",
       "      <td>9194513</td>\n",
       "      <td>3</td>\n",
       "      <td>0</td>\n",
       "      <td>1470.500000</td>\n",
       "      <td>2</td>\n",
       "      <td>1</td>\n",
       "      <td>883.0</td>\n",
       "      <td>3.0</td>\n",
       "      <td>3.0</td>\n",
       "      <td>3</td>\n",
       "      <td>3</td>\n",
       "      <td>294.333333</td>\n",
       "      <td>2.0</td>\n",
       "      <td>1</td>\n",
       "      <td>1</td>\n",
       "      <td>0.0</td>\n",
       "    </tr>\n",
       "    <tr>\n",
       "      <th>3</th>\n",
       "      <td>3</td>\n",
       "      <td>9194692</td>\n",
       "      <td>1</td>\n",
       "      <td>0</td>\n",
       "      <td>3664.000000</td>\n",
       "      <td>4</td>\n",
       "      <td>1</td>\n",
       "      <td>0.0</td>\n",
       "      <td>1.0</td>\n",
       "      <td>3.0</td>\n",
       "      <td>1</td>\n",
       "      <td>1</td>\n",
       "      <td>0.000000</td>\n",
       "      <td>0.0</td>\n",
       "      <td>1</td>\n",
       "      <td>1</td>\n",
       "      <td>0.0</td>\n",
       "    </tr>\n",
       "    <tr>\n",
       "      <th>4</th>\n",
       "      <td>4</td>\n",
       "      <td>9194824</td>\n",
       "      <td>1</td>\n",
       "      <td>0</td>\n",
       "      <td>9424.000000</td>\n",
       "      <td>1</td>\n",
       "      <td>1</td>\n",
       "      <td>0.0</td>\n",
       "      <td>0.0</td>\n",
       "      <td>3.0</td>\n",
       "      <td>0</td>\n",
       "      <td>1</td>\n",
       "      <td>0.000000</td>\n",
       "      <td>0.0</td>\n",
       "      <td>0</td>\n",
       "      <td>0</td>\n",
       "      <td>0.0</td>\n",
       "    </tr>\n",
       "  </tbody>\n",
       "</table>\n",
       "</div>"
      ],
      "text/plain": [
       "   Unnamed: 0  SessionID  item_cnt_in_ses  click_weekday  ave_item_price  \\\n",
       "0           0    9194351                5              0     1534.777778   \n",
       "1           1    9194429                2              0     1412.500000   \n",
       "2           2    9194513                3              0     1470.500000   \n",
       "3           3    9194692                1              0     3664.000000   \n",
       "4           4    9194824                1              0     9424.000000   \n",
       "\n",
       "   click_timeofday  click_payrollday  dwell_time  cnt_pop_item  \\\n",
       "0                2                 1       320.0           5.0   \n",
       "1                2                 1        60.0           2.0   \n",
       "2                2                 1       883.0           3.0   \n",
       "3                4                 1         0.0           1.0   \n",
       "4                1                 1         0.0           0.0   \n",
       "\n",
       "   ave_cheap_cat_score  cnt_most_click_cat  cnt_most_click_item  click_rate  \\\n",
       "0                  3.0                   5                    5   64.000000   \n",
       "1                  3.0                   2                    2   30.000000   \n",
       "2                  3.0                   3                    3  294.333333   \n",
       "3                  3.0                   1                    1    0.000000   \n",
       "4                  3.0                   0                    1    0.000000   \n",
       "\n",
       "   cnt_cheap_item  first_click_pop_item  last_click_pop_item  buy_or_not  \n",
       "0             1.0                     1                    1         0.0  \n",
       "1             0.0                     1                    1         0.0  \n",
       "2             2.0                     1                    1         0.0  \n",
       "3             0.0                     1                    1         0.0  \n",
       "4             0.0                     0                    0         0.0  "
      ]
     },
     "execution_count": 3,
     "metadata": {},
     "output_type": "execute_result"
    }
   ],
   "source": [
    "#Load Analytical Base Table from feature engineering:\n",
    "df = pd.read_csv('Recsys_2015.csv', low_memory = False, delimiter =',')\n",
    "df.head()"
   ]
  },
  {
   "cell_type": "code",
   "execution_count": 4,
   "metadata": {},
   "outputs": [
    {
     "data": {
      "text/html": [
       "<div>\n",
       "<style scoped>\n",
       "    .dataframe tbody tr th:only-of-type {\n",
       "        vertical-align: middle;\n",
       "    }\n",
       "\n",
       "    .dataframe tbody tr th {\n",
       "        vertical-align: top;\n",
       "    }\n",
       "\n",
       "    .dataframe thead th {\n",
       "        text-align: right;\n",
       "    }\n",
       "</style>\n",
       "<table border=\"1\" class=\"dataframe\">\n",
       "  <thead>\n",
       "    <tr style=\"text-align: right;\">\n",
       "      <th></th>\n",
       "      <th>SessionID</th>\n",
       "      <th>item_cnt_in_ses</th>\n",
       "      <th>click_weekday</th>\n",
       "      <th>ave_item_price</th>\n",
       "      <th>click_timeofday</th>\n",
       "      <th>click_payrollday</th>\n",
       "      <th>dwell_time</th>\n",
       "      <th>cnt_pop_item</th>\n",
       "      <th>ave_cheap_cat_score</th>\n",
       "      <th>cnt_most_click_cat</th>\n",
       "      <th>cnt_most_click_item</th>\n",
       "      <th>click_rate</th>\n",
       "      <th>cnt_cheap_item</th>\n",
       "      <th>first_click_pop_item</th>\n",
       "      <th>last_click_pop_item</th>\n",
       "      <th>buy_or_not</th>\n",
       "    </tr>\n",
       "  </thead>\n",
       "  <tbody>\n",
       "    <tr>\n",
       "      <th>0</th>\n",
       "      <td>9194351</td>\n",
       "      <td>5</td>\n",
       "      <td>0</td>\n",
       "      <td>1534.777778</td>\n",
       "      <td>2</td>\n",
       "      <td>1</td>\n",
       "      <td>320.0</td>\n",
       "      <td>5.0</td>\n",
       "      <td>3.0</td>\n",
       "      <td>5</td>\n",
       "      <td>5</td>\n",
       "      <td>64.000000</td>\n",
       "      <td>1.0</td>\n",
       "      <td>1</td>\n",
       "      <td>1</td>\n",
       "      <td>0.0</td>\n",
       "    </tr>\n",
       "    <tr>\n",
       "      <th>1</th>\n",
       "      <td>9194429</td>\n",
       "      <td>2</td>\n",
       "      <td>0</td>\n",
       "      <td>1412.500000</td>\n",
       "      <td>2</td>\n",
       "      <td>1</td>\n",
       "      <td>60.0</td>\n",
       "      <td>2.0</td>\n",
       "      <td>3.0</td>\n",
       "      <td>2</td>\n",
       "      <td>2</td>\n",
       "      <td>30.000000</td>\n",
       "      <td>0.0</td>\n",
       "      <td>1</td>\n",
       "      <td>1</td>\n",
       "      <td>0.0</td>\n",
       "    </tr>\n",
       "    <tr>\n",
       "      <th>2</th>\n",
       "      <td>9194513</td>\n",
       "      <td>3</td>\n",
       "      <td>0</td>\n",
       "      <td>1470.500000</td>\n",
       "      <td>2</td>\n",
       "      <td>1</td>\n",
       "      <td>883.0</td>\n",
       "      <td>3.0</td>\n",
       "      <td>3.0</td>\n",
       "      <td>3</td>\n",
       "      <td>3</td>\n",
       "      <td>294.333333</td>\n",
       "      <td>2.0</td>\n",
       "      <td>1</td>\n",
       "      <td>1</td>\n",
       "      <td>0.0</td>\n",
       "    </tr>\n",
       "    <tr>\n",
       "      <th>3</th>\n",
       "      <td>9194692</td>\n",
       "      <td>1</td>\n",
       "      <td>0</td>\n",
       "      <td>3664.000000</td>\n",
       "      <td>4</td>\n",
       "      <td>1</td>\n",
       "      <td>0.0</td>\n",
       "      <td>1.0</td>\n",
       "      <td>3.0</td>\n",
       "      <td>1</td>\n",
       "      <td>1</td>\n",
       "      <td>0.000000</td>\n",
       "      <td>0.0</td>\n",
       "      <td>1</td>\n",
       "      <td>1</td>\n",
       "      <td>0.0</td>\n",
       "    </tr>\n",
       "    <tr>\n",
       "      <th>4</th>\n",
       "      <td>9194824</td>\n",
       "      <td>1</td>\n",
       "      <td>0</td>\n",
       "      <td>9424.000000</td>\n",
       "      <td>1</td>\n",
       "      <td>1</td>\n",
       "      <td>0.0</td>\n",
       "      <td>0.0</td>\n",
       "      <td>3.0</td>\n",
       "      <td>0</td>\n",
       "      <td>1</td>\n",
       "      <td>0.000000</td>\n",
       "      <td>0.0</td>\n",
       "      <td>0</td>\n",
       "      <td>0</td>\n",
       "      <td>0.0</td>\n",
       "    </tr>\n",
       "  </tbody>\n",
       "</table>\n",
       "</div>"
      ],
      "text/plain": [
       "   SessionID  item_cnt_in_ses  click_weekday  ave_item_price  click_timeofday  \\\n",
       "0    9194351                5              0     1534.777778                2   \n",
       "1    9194429                2              0     1412.500000                2   \n",
       "2    9194513                3              0     1470.500000                2   \n",
       "3    9194692                1              0     3664.000000                4   \n",
       "4    9194824                1              0     9424.000000                1   \n",
       "\n",
       "   click_payrollday  dwell_time  cnt_pop_item  ave_cheap_cat_score  \\\n",
       "0                 1       320.0           5.0                  3.0   \n",
       "1                 1        60.0           2.0                  3.0   \n",
       "2                 1       883.0           3.0                  3.0   \n",
       "3                 1         0.0           1.0                  3.0   \n",
       "4                 1         0.0           0.0                  3.0   \n",
       "\n",
       "   cnt_most_click_cat  cnt_most_click_item  click_rate  cnt_cheap_item  \\\n",
       "0                   5                    5   64.000000             1.0   \n",
       "1                   2                    2   30.000000             0.0   \n",
       "2                   3                    3  294.333333             2.0   \n",
       "3                   1                    1    0.000000             0.0   \n",
       "4                   0                    1    0.000000             0.0   \n",
       "\n",
       "   first_click_pop_item  last_click_pop_item  buy_or_not  \n",
       "0                     1                    1         0.0  \n",
       "1                     1                    1         0.0  \n",
       "2                     1                    1         0.0  \n",
       "3                     1                    1         0.0  \n",
       "4                     0                    0         0.0  "
      ]
     },
     "execution_count": 4,
     "metadata": {},
     "output_type": "execute_result"
    }
   ],
   "source": [
    "df = df.drop(['Unnamed: 0'], axis=1)\n",
    "df.head()"
   ]
  },
  {
   "cell_type": "code",
   "execution_count": 5,
   "metadata": {},
   "outputs": [
    {
     "name": "stdout",
     "output_type": "stream",
     "text": [
      "<class 'pandas.core.frame.DataFrame'>\n",
      "RangeIndex: 100086 entries, 0 to 100085\n",
      "Data columns (total 16 columns):\n",
      " #   Column                Non-Null Count   Dtype  \n",
      "---  ------                --------------   -----  \n",
      " 0   SessionID             100086 non-null  int64  \n",
      " 1   item_cnt_in_ses       100086 non-null  int64  \n",
      " 2   click_weekday         100086 non-null  int64  \n",
      " 3   ave_item_price        96666 non-null   float64\n",
      " 4   click_timeofday       100086 non-null  int64  \n",
      " 5   click_payrollday      100086 non-null  int64  \n",
      " 6   dwell_time            100086 non-null  float64\n",
      " 7   cnt_pop_item          96666 non-null   float64\n",
      " 8   ave_cheap_cat_score   100078 non-null  float64\n",
      " 9   cnt_most_click_cat    100086 non-null  int64  \n",
      " 10  cnt_most_click_item   100086 non-null  int64  \n",
      " 11  click_rate            100086 non-null  float64\n",
      " 12  cnt_cheap_item        96666 non-null   float64\n",
      " 13  first_click_pop_item  100086 non-null  int64  \n",
      " 14  last_click_pop_item   100086 non-null  int64  \n",
      " 15  buy_or_not            100086 non-null  float64\n",
      "dtypes: float64(7), int64(9)\n",
      "memory usage: 12.2 MB\n"
     ]
    }
   ],
   "source": [
    "# missing data imputation\n",
    "df.info()"
   ]
  },
  {
   "cell_type": "code",
   "execution_count": 6,
   "metadata": {},
   "outputs": [
    {
     "name": "stdout",
     "output_type": "stream",
     "text": [
      "<class 'pandas.core.frame.DataFrame'>\n",
      "RangeIndex: 100086 entries, 0 to 100085\n",
      "Data columns (total 16 columns):\n",
      " #   Column                Non-Null Count   Dtype  \n",
      "---  ------                --------------   -----  \n",
      " 0   SessionID             100086 non-null  float64\n",
      " 1   item_cnt_in_ses       100086 non-null  float64\n",
      " 2   click_weekday         100086 non-null  float64\n",
      " 3   ave_item_price        100086 non-null  float64\n",
      " 4   click_timeofday       100086 non-null  float64\n",
      " 5   click_payrollday      100086 non-null  float64\n",
      " 6   dwell_time            100086 non-null  float64\n",
      " 7   cnt_pop_item          100086 non-null  float64\n",
      " 8   ave_cheap_cat_score   100086 non-null  float64\n",
      " 9   cnt_most_click_cat    100086 non-null  float64\n",
      " 10  cnt_most_click_item   100086 non-null  float64\n",
      " 11  click_rate            100086 non-null  float64\n",
      " 12  cnt_cheap_item        100086 non-null  float64\n",
      " 13  first_click_pop_item  100086 non-null  float64\n",
      " 14  last_click_pop_item   100086 non-null  float64\n",
      " 15  buy_or_not            100086 non-null  float64\n",
      "dtypes: float64(16)\n",
      "memory usage: 12.2 MB\n"
     ]
    }
   ],
   "source": [
    "# missing data imputation\n",
    "imputer = SimpleImputer(strategy = \"median\")\n",
    "\n",
    "imputer.fit(df)\n",
    "data = imputer.transform(df)\n",
    "\n",
    "data = pd.DataFrame(data, columns = df.columns)\n",
    "data.info()"
   ]
  },
  {
   "cell_type": "code",
   "execution_count": 7,
   "metadata": {},
   "outputs": [
    {
     "data": {
      "text/html": [
       "<div>\n",
       "<style scoped>\n",
       "    .dataframe tbody tr th:only-of-type {\n",
       "        vertical-align: middle;\n",
       "    }\n",
       "\n",
       "    .dataframe tbody tr th {\n",
       "        vertical-align: top;\n",
       "    }\n",
       "\n",
       "    .dataframe thead th {\n",
       "        text-align: right;\n",
       "    }\n",
       "</style>\n",
       "<table border=\"1\" class=\"dataframe\">\n",
       "  <thead>\n",
       "    <tr style=\"text-align: right;\">\n",
       "      <th></th>\n",
       "      <th>SessionID</th>\n",
       "      <th>item_cnt_in_ses</th>\n",
       "      <th>click_weekday</th>\n",
       "      <th>ave_item_price</th>\n",
       "      <th>click_timeofday</th>\n",
       "      <th>click_payrollday</th>\n",
       "      <th>dwell_time</th>\n",
       "      <th>cnt_pop_item</th>\n",
       "      <th>ave_cheap_cat_score</th>\n",
       "      <th>cnt_most_click_cat</th>\n",
       "      <th>cnt_most_click_item</th>\n",
       "      <th>click_rate</th>\n",
       "      <th>cnt_cheap_item</th>\n",
       "      <th>first_click_pop_item</th>\n",
       "      <th>last_click_pop_item</th>\n",
       "      <th>buy_or_not</th>\n",
       "    </tr>\n",
       "  </thead>\n",
       "  <tbody>\n",
       "    <tr>\n",
       "      <th>count</th>\n",
       "      <td>1.000860e+05</td>\n",
       "      <td>100086.000000</td>\n",
       "      <td>100086.000000</td>\n",
       "      <td>100086.000000</td>\n",
       "      <td>100086.000000</td>\n",
       "      <td>100086.000000</td>\n",
       "      <td>100086.000000</td>\n",
       "      <td>100086.000000</td>\n",
       "      <td>100086.000000</td>\n",
       "      <td>100086.000000</td>\n",
       "      <td>100086.000000</td>\n",
       "      <td>100086.000000</td>\n",
       "      <td>100086.000000</td>\n",
       "      <td>100086.000000</td>\n",
       "      <td>100086.000000</td>\n",
       "      <td>100086.000000</td>\n",
       "    </tr>\n",
       "    <tr>\n",
       "      <th>mean</th>\n",
       "      <td>1.059989e+07</td>\n",
       "      <td>5.054213</td>\n",
       "      <td>3.115211</td>\n",
       "      <td>5054.498684</td>\n",
       "      <td>2.791210</td>\n",
       "      <td>0.120726</td>\n",
       "      <td>631.941141</td>\n",
       "      <td>3.622215</td>\n",
       "      <td>2.999697</td>\n",
       "      <td>3.269568</td>\n",
       "      <td>3.275193</td>\n",
       "      <td>112.505730</td>\n",
       "      <td>1.644436</td>\n",
       "      <td>0.732060</td>\n",
       "      <td>0.688398</td>\n",
       "      <td>0.500090</td>\n",
       "    </tr>\n",
       "    <tr>\n",
       "      <th>std</th>\n",
       "      <td>5.802499e+05</td>\n",
       "      <td>5.982175</td>\n",
       "      <td>2.257741</td>\n",
       "      <td>10641.375186</td>\n",
       "      <td>0.867939</td>\n",
       "      <td>0.325810</td>\n",
       "      <td>1026.484617</td>\n",
       "      <td>4.362695</td>\n",
       "      <td>0.546416</td>\n",
       "      <td>4.365992</td>\n",
       "      <td>4.267795</td>\n",
       "      <td>176.387640</td>\n",
       "      <td>3.567598</td>\n",
       "      <td>0.442888</td>\n",
       "      <td>0.463150</td>\n",
       "      <td>0.500002</td>\n",
       "    </tr>\n",
       "    <tr>\n",
       "      <th>min</th>\n",
       "      <td>9.194351e+06</td>\n",
       "      <td>1.000000</td>\n",
       "      <td>0.000000</td>\n",
       "      <td>26.000000</td>\n",
       "      <td>1.000000</td>\n",
       "      <td>0.000000</td>\n",
       "      <td>0.000000</td>\n",
       "      <td>0.000000</td>\n",
       "      <td>1.000000</td>\n",
       "      <td>0.000000</td>\n",
       "      <td>0.000000</td>\n",
       "      <td>0.000000</td>\n",
       "      <td>0.000000</td>\n",
       "      <td>0.000000</td>\n",
       "      <td>0.000000</td>\n",
       "      <td>0.000000</td>\n",
       "    </tr>\n",
       "    <tr>\n",
       "      <th>25%</th>\n",
       "      <td>1.013127e+07</td>\n",
       "      <td>2.000000</td>\n",
       "      <td>1.000000</td>\n",
       "      <td>1009.510417</td>\n",
       "      <td>2.000000</td>\n",
       "      <td>0.000000</td>\n",
       "      <td>49.000000</td>\n",
       "      <td>1.000000</td>\n",
       "      <td>3.000000</td>\n",
       "      <td>1.000000</td>\n",
       "      <td>1.000000</td>\n",
       "      <td>20.500000</td>\n",
       "      <td>0.000000</td>\n",
       "      <td>0.000000</td>\n",
       "      <td>0.000000</td>\n",
       "      <td>0.000000</td>\n",
       "    </tr>\n",
       "    <tr>\n",
       "      <th>50%</th>\n",
       "      <td>1.063608e+07</td>\n",
       "      <td>3.000000</td>\n",
       "      <td>3.000000</td>\n",
       "      <td>1622.000000</td>\n",
       "      <td>3.000000</td>\n",
       "      <td>0.000000</td>\n",
       "      <td>244.000000</td>\n",
       "      <td>2.000000</td>\n",
       "      <td>3.000000</td>\n",
       "      <td>2.000000</td>\n",
       "      <td>2.000000</td>\n",
       "      <td>60.000000</td>\n",
       "      <td>0.000000</td>\n",
       "      <td>1.000000</td>\n",
       "      <td>1.000000</td>\n",
       "      <td>1.000000</td>\n",
       "    </tr>\n",
       "    <tr>\n",
       "      <th>75%</th>\n",
       "      <td>1.108916e+07</td>\n",
       "      <td>6.000000</td>\n",
       "      <td>5.000000</td>\n",
       "      <td>4344.500000</td>\n",
       "      <td>3.000000</td>\n",
       "      <td>0.000000</td>\n",
       "      <td>759.000000</td>\n",
       "      <td>5.000000</td>\n",
       "      <td>3.000000</td>\n",
       "      <td>4.000000</td>\n",
       "      <td>4.000000</td>\n",
       "      <td>126.333333</td>\n",
       "      <td>2.000000</td>\n",
       "      <td>1.000000</td>\n",
       "      <td>1.000000</td>\n",
       "      <td>1.000000</td>\n",
       "    </tr>\n",
       "    <tr>\n",
       "      <th>max</th>\n",
       "      <td>1.156211e+07</td>\n",
       "      <td>197.000000</td>\n",
       "      <td>6.000000</td>\n",
       "      <td>208288.000000</td>\n",
       "      <td>4.000000</td>\n",
       "      <td>1.000000</td>\n",
       "      <td>29262.000000</td>\n",
       "      <td>105.000000</td>\n",
       "      <td>4.000000</td>\n",
       "      <td>143.000000</td>\n",
       "      <td>112.000000</td>\n",
       "      <td>2245.333333</td>\n",
       "      <td>78.000000</td>\n",
       "      <td>1.000000</td>\n",
       "      <td>1.000000</td>\n",
       "      <td>1.000000</td>\n",
       "    </tr>\n",
       "  </tbody>\n",
       "</table>\n",
       "</div>"
      ],
      "text/plain": [
       "          SessionID  item_cnt_in_ses  click_weekday  ave_item_price  \\\n",
       "count  1.000860e+05    100086.000000  100086.000000   100086.000000   \n",
       "mean   1.059989e+07         5.054213       3.115211     5054.498684   \n",
       "std    5.802499e+05         5.982175       2.257741    10641.375186   \n",
       "min    9.194351e+06         1.000000       0.000000       26.000000   \n",
       "25%    1.013127e+07         2.000000       1.000000     1009.510417   \n",
       "50%    1.063608e+07         3.000000       3.000000     1622.000000   \n",
       "75%    1.108916e+07         6.000000       5.000000     4344.500000   \n",
       "max    1.156211e+07       197.000000       6.000000   208288.000000   \n",
       "\n",
       "       click_timeofday  click_payrollday     dwell_time   cnt_pop_item  \\\n",
       "count    100086.000000     100086.000000  100086.000000  100086.000000   \n",
       "mean          2.791210          0.120726     631.941141       3.622215   \n",
       "std           0.867939          0.325810    1026.484617       4.362695   \n",
       "min           1.000000          0.000000       0.000000       0.000000   \n",
       "25%           2.000000          0.000000      49.000000       1.000000   \n",
       "50%           3.000000          0.000000     244.000000       2.000000   \n",
       "75%           3.000000          0.000000     759.000000       5.000000   \n",
       "max           4.000000          1.000000   29262.000000     105.000000   \n",
       "\n",
       "       ave_cheap_cat_score  cnt_most_click_cat  cnt_most_click_item  \\\n",
       "count        100086.000000       100086.000000        100086.000000   \n",
       "mean              2.999697            3.269568             3.275193   \n",
       "std               0.546416            4.365992             4.267795   \n",
       "min               1.000000            0.000000             0.000000   \n",
       "25%               3.000000            1.000000             1.000000   \n",
       "50%               3.000000            2.000000             2.000000   \n",
       "75%               3.000000            4.000000             4.000000   \n",
       "max               4.000000          143.000000           112.000000   \n",
       "\n",
       "          click_rate  cnt_cheap_item  first_click_pop_item  \\\n",
       "count  100086.000000   100086.000000         100086.000000   \n",
       "mean      112.505730        1.644436              0.732060   \n",
       "std       176.387640        3.567598              0.442888   \n",
       "min         0.000000        0.000000              0.000000   \n",
       "25%        20.500000        0.000000              0.000000   \n",
       "50%        60.000000        0.000000              1.000000   \n",
       "75%       126.333333        2.000000              1.000000   \n",
       "max      2245.333333       78.000000              1.000000   \n",
       "\n",
       "       last_click_pop_item     buy_or_not  \n",
       "count        100086.000000  100086.000000  \n",
       "mean              0.688398       0.500090  \n",
       "std               0.463150       0.500002  \n",
       "min               0.000000       0.000000  \n",
       "25%               0.000000       0.000000  \n",
       "50%               1.000000       1.000000  \n",
       "75%               1.000000       1.000000  \n",
       "max               1.000000       1.000000  "
      ]
     },
     "execution_count": 7,
     "metadata": {},
     "output_type": "execute_result"
    }
   ],
   "source": [
    "data.describe()"
   ]
  },
  {
   "cell_type": "code",
   "execution_count": 8,
   "metadata": {},
   "outputs": [
    {
     "data": {
      "text/plain": [
       "buy_or_not              1.000000\n",
       "cnt_pop_item            0.311884\n",
       "item_cnt_in_ses         0.299172\n",
       "cnt_most_click_item     0.296612\n",
       "dwell_time              0.288196\n",
       "cnt_most_click_cat      0.257401\n",
       "cnt_cheap_item          0.210218\n",
       "click_rate              0.170981\n",
       "first_click_pop_item    0.140859\n",
       "last_click_pop_item     0.112321\n",
       "click_weekday           0.073431\n",
       "SessionID               0.023526\n",
       "click_timeofday        -0.012861\n",
       "click_payrollday       -0.022361\n",
       "ave_item_price         -0.047566\n",
       "ave_cheap_cat_score    -0.075489\n",
       "Name: buy_or_not, dtype: float64"
      ]
     },
     "execution_count": 8,
     "metadata": {},
     "output_type": "execute_result"
    }
   ],
   "source": [
    "corr_matrix = data.corr()\n",
    "corr_matrix[\"buy_or_not\"].sort_values(ascending=False)"
   ]
  },
  {
   "cell_type": "code",
   "execution_count": 9,
   "metadata": {},
   "outputs": [],
   "source": [
    "# Split train and test datasets\n",
    "y = data['buy_or_not'].values\n",
    "X = data.drop(['buy_or_not'], axis=1).values\n",
    "\n",
    "X_train, X_test, y_train, y_test = train_test_split(X, y, test_size=0.2, random_state=42)"
   ]
  },
  {
   "cell_type": "markdown",
   "metadata": {},
   "source": [
    "### logistic regression"
   ]
  },
  {
   "cell_type": "code",
   "execution_count": 10,
   "metadata": {},
   "outputs": [
    {
     "data": {
      "text/plain": [
       "LogisticRegression(random_state=42)"
      ]
     },
     "execution_count": 10,
     "metadata": {},
     "output_type": "execute_result"
    }
   ],
   "source": [
    "# Create the classifier: log_reg\n",
    "log_reg = LogisticRegression(random_state = 42)\n",
    "\n",
    "# Fit the classifier to the train data\n",
    "log_reg.fit(X_train, y_train)"
   ]
  },
  {
   "cell_type": "code",
   "execution_count": 11,
   "metadata": {},
   "outputs": [],
   "source": [
    "# Predict the labels of the test dataset: y_test_pred\n",
    "y_test_pred = log_reg.predict(X_test)"
   ]
  },
  {
   "cell_type": "code",
   "execution_count": 12,
   "metadata": {},
   "outputs": [
    {
     "name": "stdout",
     "output_type": "stream",
     "text": [
      "confusion matrix\n",
      " [[33455  6546]\n",
      " [19999 20068]]\n",
      "\n",
      "classification report\n",
      "               precision    recall  f1-score   support\n",
      "\n",
      "         0.0       0.63      0.84      0.72     40001\n",
      "         1.0       0.75      0.50      0.60     40067\n",
      "\n",
      "    accuracy                           0.67     80068\n",
      "   macro avg       0.69      0.67      0.66     80068\n",
      "weighted avg       0.69      0.67      0.66     80068\n",
      "\n"
     ]
    }
   ],
   "source": [
    "# the performance of the model on train dataset\n",
    "\n",
    "# Predict the labels of the train set: y_train_pred\n",
    "y_train_pred = log_reg.predict(X_train)\n",
    "\n",
    "# Compute and print the confusion matrix and classification report\n",
    "print(f'confusion matrix\\n {confusion_matrix(y_train, y_train_pred)}\\n')\n",
    "print(f'classification report\\n {classification_report(y_train, y_train_pred)}')"
   ]
  },
  {
   "cell_type": "code",
   "execution_count": 13,
   "metadata": {},
   "outputs": [
    {
     "data": {
      "image/png": "[encoded data removed]",
      "text/plain": [
       "<Figure size 432x288 with 1 Axes>"
      ]
     },
     "metadata": {
      "needs_background": "light"
     },
     "output_type": "display_data"
    }
   ],
   "source": [
    "# Compute predicted probabilities: y_train_pred_prob\n",
    "y_train_pred_prob = log_reg.predict_proba(X_train)[:,1]\n",
    "\n",
    "# Generate ROC curve values: fpr, tpr, thresholds\n",
    "fpr, tpr, thresholds = roc_curve(y_train, y_train_pred_prob)\n",
    "roc_auc = metrics.auc(fpr,tpr)\n",
    "\n",
    "# Plot ROC curve\n",
    "plt.title('Train ROC curve')\n",
    "plt.plot(fpr,tpr,'b', label = 'AUC = %0.2f' % roc_auc)\n",
    "plt.plot([0,1],[0,1],'r--')\n",
    "plt.xlim([0,1])\n",
    "plt.ylim([0,1])\n",
    "plt.ylabel('True Positive Rate')\n",
    "plt.xlabel('False Positive Rate')\n",
    "plt.show()"
   ]
  },
  {
   "cell_type": "code",
   "execution_count": 17,
   "metadata": {},
   "outputs": [
    {
     "data": {
      "text/plain": [
       "0.7369274481043856"
      ]
     },
     "execution_count": 17,
     "metadata": {},
     "output_type": "execute_result"
    }
   ],
   "source": [
    "# auc score of the train dataset\n",
    "auc(fpr, tpr)"
   ]
  },
  {
   "cell_type": "code",
   "execution_count": 18,
   "metadata": {},
   "outputs": [
    {
     "name": "stdout",
     "output_type": "stream",
     "text": [
      "confusion matrix\n",
      " [[8396 1637]\n",
      " [5075 4910]]\n",
      "\n",
      "classification report\n",
      "               precision    recall  f1-score   support\n",
      "\n",
      "         0.0       0.62      0.84      0.71     10033\n",
      "         1.0       0.75      0.49      0.59      9985\n",
      "\n",
      "    accuracy                           0.66     20018\n",
      "   macro avg       0.69      0.66      0.65     20018\n",
      "weighted avg       0.69      0.66      0.65     20018\n",
      "\n"
     ]
    }
   ],
   "source": [
    "# the performance of the model on test dataset\n",
    "\n",
    "# Predict the labels of the test set: y_test_pred\n",
    "y_test_pred = log_reg.predict(X_test)\n",
    "\n",
    "# Compute and print the confusion matrix and classification report\n",
    "print(f'confusion matrix\\n {confusion_matrix(y_test, y_test_pred)}\\n')\n",
    "print(f'classification report\\n {classification_report(y_test, y_test_pred)}')"
   ]
  },
  {
   "cell_type": "code",
   "execution_count": 19,
   "metadata": {},
   "outputs": [
    {
     "data": {
      "image/png": "[encoded data removed]",
      "text/plain": [
       "<Figure size 432x288 with 1 Axes>"
      ]
     },
     "metadata": {
      "needs_background": "light"
     },
     "output_type": "display_data"
    }
   ],
   "source": [
    "# Compute predicted probabilities: y_test_pred_prob\n",
    "y_test_pred_prob = log_reg.predict_proba(X_test)[:,1]\n",
    "\n",
    "# Generate ROC curve values: fpr, tpr, thresholds\n",
    "fpr, tpr, thresholds = roc_curve(y_test, y_test_pred_prob)\n",
    "roc_auc = metrics.auc(fpr,tpr)\n",
    "\n",
    "# Plot ROC curve\n",
    "plt.title('Test ROC curve')\n",
    "plt.plot(fpr,tpr,'b', label = 'AUC = %0.2f' % roc_auc)\n",
    "plt.plot([0,1],[0,1],'r--')\n",
    "plt.xlim([0,1])\n",
    "plt.ylim([0,1])\n",
    "plt.ylabel('True Positive Rate')\n",
    "plt.xlabel('False Positive Rate')\n",
    "plt.show()"
   ]
  },
  {
   "cell_type": "code",
   "execution_count": 20,
   "metadata": {},
   "outputs": [
    {
     "data": {
      "text/plain": [
       "0.7325293931128928"
      ]
     },
     "execution_count": 20,
     "metadata": {},
     "output_type": "execute_result"
    }
   ],
   "source": [
    "# auc score of the test dataset\n",
    "auc(fpr, tpr)"
   ]
  },
  {
   "cell_type": "markdown",
   "metadata": {},
   "source": [
    "### random forest"
   ]
  },
  {
   "cell_type": "code",
   "execution_count": 21,
   "metadata": {},
   "outputs": [],
   "source": [
    "# convert categorical features to category datatype\n",
    "data['click_weekday'] = data['click_weekday'].astype('category')\n",
    "data['click_payrollday'] = data['click_payrollday'].astype('category')\n",
    "data['first_click_pop_item'] = data['first_click_pop_item'].astype('category')\n",
    "data['last_click_pop_item'] = data['last_click_pop_item'].astype('category')"
   ]
  },
  {
   "cell_type": "code",
   "execution_count": 22,
   "metadata": {},
   "outputs": [
    {
     "name": "stdout",
     "output_type": "stream",
     "text": [
      "<class 'pandas.core.frame.DataFrame'>\n",
      "RangeIndex: 100086 entries, 0 to 100085\n",
      "Data columns (total 16 columns):\n",
      " #   Column                Non-Null Count   Dtype   \n",
      "---  ------                --------------   -----   \n",
      " 0   SessionID             100086 non-null  float64 \n",
      " 1   item_cnt_in_ses       100086 non-null  float64 \n",
      " 2   click_weekday         100086 non-null  category\n",
      " 3   ave_item_price        100086 non-null  float64 \n",
      " 4   click_timeofday       100086 non-null  float64 \n",
      " 5   click_payrollday      100086 non-null  category\n",
      " 6   dwell_time            100086 non-null  float64 \n",
      " 7   cnt_pop_item          100086 non-null  float64 \n",
      " 8   ave_cheap_cat_score   100086 non-null  float64 \n",
      " 9   cnt_most_click_cat    100086 non-null  float64 \n",
      " 10  cnt_most_click_item   100086 non-null  float64 \n",
      " 11  click_rate            100086 non-null  float64 \n",
      " 12  cnt_cheap_item        100086 non-null  float64 \n",
      " 13  first_click_pop_item  100086 non-null  category\n",
      " 14  last_click_pop_item   100086 non-null  category\n",
      " 15  buy_or_not            100086 non-null  float64 \n",
      "dtypes: category(4), float64(12)\n",
      "memory usage: 9.5 MB\n"
     ]
    }
   ],
   "source": [
    "data.info()"
   ]
  },
  {
   "cell_type": "code",
   "execution_count": 23,
   "metadata": {},
   "outputs": [],
   "source": [
    "y = data['buy_or_not'].values\n",
    "X = data.drop(['buy_or_not'], axis=1).values\n",
    "\n",
    "# Split train and test datasets\n",
    "X_train, X_test, y_train, y_test = train_test_split(X, y, test_size=0.2, random_state=42)"
   ]
  },
  {
   "cell_type": "code",
   "execution_count": 24,
   "metadata": {},
   "outputs": [
    {
     "data": {
      "text/plain": [
       "RandomForestClassifier(max_depth=2, random_state=0)"
      ]
     },
     "execution_count": 24,
     "metadata": {},
     "output_type": "execute_result"
    }
   ],
   "source": [
    "# Create the classifier: forest\n",
    "forest = RandomForestClassifier(max_depth = 2, random_state = 0)\n",
    "\n",
    "# Fit the classifier to the train dataset\n",
    "forest.fit(X_train,y_train)"
   ]
  },
  {
   "cell_type": "code",
   "execution_count": 25,
   "metadata": {},
   "outputs": [
    {
     "name": "stdout",
     "output_type": "stream",
     "text": [
      "[2.02556632e-04 1.83993339e-01 1.05146241e-03 9.63701657e-03\n",
      " 2.93714748e-04 0.00000000e+00 2.89046718e-01 1.51516664e-01\n",
      " 8.49830022e-03 4.44842408e-02 7.24332117e-02 1.94259669e-01\n",
      " 2.64047472e-02 6.55572661e-03 1.16226331e-02]\n"
     ]
    }
   ],
   "source": [
    "print(forest.feature_importances_)\n",
    "# Features 2, 7, 8, 12, which are number of items, dwelling time, popular items clicked and time spent on each item, \n",
    "# are more impartant than other features. This is similar to what we found by data correlation matrix earlier."
   ]
  },
  {
   "cell_type": "code",
   "execution_count": 26,
   "metadata": {},
   "outputs": [
    {
     "data": {
      "image/png": "[encoded data removed]",
      "text/plain": [
       "<Figure size 432x288 with 1 Axes>"
      ]
     },
     "metadata": {
      "needs_background": "light"
     },
     "output_type": "display_data"
    }
   ],
   "source": [
    "# Compute predicted probabilities: y_train_pred_prob\n",
    "y_train_pred_prob = forest.predict_proba(X_train)[:,1]\n",
    "\n",
    "# Generate ROC curve values: fpr, tpr, thresholds\n",
    "fpr, tpr, thresholds = roc_curve(y_train, y_train_pred_prob)\n",
    "\n",
    "# Plot ROC curve\n",
    "plt.title('Train ROC curve')\n",
    "plt.plot(fpr,tpr,'b', label = 'AUC = %0.2f' % roc_auc)\n",
    "plt.plot([0,1],[0,1],'r--')\n",
    "plt.xlim([0,1])\n",
    "plt.ylim([0,1])\n",
    "plt.ylabel('True Positive Rate')\n",
    "plt.xlabel('False Positive Rate')\n",
    "plt.show()"
   ]
  },
  {
   "cell_type": "code",
   "execution_count": 27,
   "metadata": {},
   "outputs": [
    {
     "data": {
      "text/plain": [
       "0.7688215418095217"
      ]
     },
     "execution_count": 27,
     "metadata": {},
     "output_type": "execute_result"
    }
   ],
   "source": [
    "# auc score of the train dataset\n",
    "auc(fpr, tpr)"
   ]
  },
  {
   "cell_type": "code",
   "execution_count": 28,
   "metadata": {},
   "outputs": [
    {
     "data": {
      "image/png": "[encoded data removed]",
      "text/plain": [
       "<Figure size 432x288 with 1 Axes>"
      ]
     },
     "metadata": {
      "needs_background": "light"
     },
     "output_type": "display_data"
    }
   ],
   "source": [
    "# Compute predicted probabilities: y_test_pred_prob\n",
    "y_test_pred_prob = forest.predict_proba(X_test)[:,1]\n",
    "\n",
    "# Generate ROC curve values: fpr, tpr, thresholds\n",
    "fpr, tpr, thresholds = roc_curve(y_test, y_test_pred_prob)\n",
    "\n",
    "# Plot ROC curve\n",
    "plt.title('Test ROC curve')\n",
    "plt.plot(fpr,tpr,'b', label = 'AUC = %0.2f' % roc_auc)\n",
    "plt.plot([0,1],[0,1],'r--')\n",
    "plt.xlim([0,1])\n",
    "plt.ylim([0,1])\n",
    "plt.ylabel('True Positive Rate')\n",
    "plt.xlabel('False Positive Rate')\n",
    "plt.show()"
   ]
  },
  {
   "cell_type": "code",
   "execution_count": 29,
   "metadata": {},
   "outputs": [
    {
     "data": {
      "text/plain": [
       "0.7643351851259397"
      ]
     },
     "execution_count": 29,
     "metadata": {},
     "output_type": "execute_result"
    }
   ],
   "source": [
    "# auc score of the test dataset\n",
    "auc(fpr, tpr)"
   ]
  }
 ],
 "metadata": {
  "kernelspec": {
   "display_name": "Python 3",
   "language": "python",
   "name": "python3"
  },
  "language_info": {
   "codemirror_mode": {
    "name": "ipython",
    "version": 3
   },
   "file_extension": ".py",
   "mimetype": "text/x-python",
   "name": "python",
   "nbconvert_exporter": "python",
   "pygments_lexer": "ipython3",
   "version": "3.8.5"
  }
 },
 "nbformat": 4,
 "nbformat_minor": 4
}
